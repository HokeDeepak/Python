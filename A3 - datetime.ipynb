{
 "cells": [
  {
   "cell_type": "code",
   "execution_count": 2,
   "id": "60c8a9f3",
   "metadata": {},
   "outputs": [],
   "source": [
    "from datetime import datetime\n",
    "# from package_name import module_name"
   ]
  },
  {
   "cell_type": "code",
   "execution_count": 3,
   "id": "072f7be1",
   "metadata": {},
   "outputs": [
    {
     "name": "stdout",
     "output_type": "stream",
     "text": [
      "2023-02-27 15:25:16.007247\n"
     ]
    }
   ],
   "source": [
    "# to display current datetime\n",
    "print(datetime.now())"
   ]
  },
  {
   "cell_type": "code",
   "execution_count": 4,
   "id": "c733c48e",
   "metadata": {},
   "outputs": [
    {
     "name": "stdout",
     "output_type": "stream",
     "text": [
      "2023-02-27\n"
     ]
    }
   ],
   "source": [
    "import datetime\n",
    "print(datetime.date.today())"
   ]
  },
  {
   "cell_type": "code",
   "execution_count": 7,
   "id": "fe859e30",
   "metadata": {},
   "outputs": [
    {
     "name": "stdout",
     "output_type": "stream",
     "text": [
      "15:31:06.417614\n"
     ]
    }
   ],
   "source": [
    "print(datetime.datetime.now().time())"
   ]
  },
  {
   "cell_type": "code",
   "execution_count": 8,
   "id": "9cce97da",
   "metadata": {},
   "outputs": [
    {
     "name": "stdout",
     "output_type": "stream",
     "text": [
      "2023-02-27 15:31:43.860121\n"
     ]
    }
   ],
   "source": [
    "n=datetime.datetime.now()\n",
    "print(n)"
   ]
  },
  {
   "cell_type": "code",
   "execution_count": 9,
   "id": "8ab2bdf6",
   "metadata": {},
   "outputs": [
    {
     "name": "stdout",
     "output_type": "stream",
     "text": [
      "15:31:43.860121\n"
     ]
    }
   ],
   "source": [
    "print(n.time())"
   ]
  },
  {
   "cell_type": "code",
   "execution_count": 10,
   "id": "22e1cabc",
   "metadata": {},
   "outputs": [
    {
     "name": "stdout",
     "output_type": "stream",
     "text": [
      "15:31:43.860121\n",
      "Hour:- 15\n",
      "minutes:- 31\n",
      "seconds:- 43\n",
      "microseconds:- 860121\n"
     ]
    }
   ],
   "source": [
    "t=n.time()\n",
    "print(t)\n",
    "print(\"Hour:-\",t.hour)\n",
    "print(\"minutes:-\",t.minute)\n",
    "print(\"seconds:-\",t.second)\n",
    "print(\"microseconds:-\",t.microsecond)"
   ]
  },
  {
   "cell_type": "code",
   "execution_count": 11,
   "id": "178762c9",
   "metadata": {},
   "outputs": [
    {
     "name": "stdout",
     "output_type": "stream",
     "text": [
      "2023-02-27\n",
      "year:- 2023\n",
      "month:- 2\n",
      "day:- 27\n"
     ]
    }
   ],
   "source": [
    "d=datetime.date.today()\n",
    "print(d)\n",
    "print(\"year:-\",d.year)\n",
    "print(\"month:-\",d.month)\n",
    "print(\"day:-\",d.day)"
   ]
  },
  {
   "cell_type": "code",
   "execution_count": 13,
   "id": "4a475337",
   "metadata": {},
   "outputs": [
    {
     "name": "stdout",
     "output_type": "stream",
     "text": [
      "2002-10-12\n"
     ]
    }
   ],
   "source": [
    "d=datetime.date(2002,10,12)\n",
    "print(d)"
   ]
  },
  {
   "cell_type": "code",
   "execution_count": 15,
   "id": "c37be652",
   "metadata": {},
   "outputs": [
    {
     "name": "stdout",
     "output_type": "stream",
     "text": [
      "12:10:23\n"
     ]
    }
   ],
   "source": [
    "t=datetime.time(12,10,23)\n",
    "print(t)"
   ]
  },
  {
   "cell_type": "code",
   "execution_count": 16,
   "id": "a51aa985",
   "metadata": {},
   "outputs": [
    {
     "name": "stdout",
     "output_type": "stream",
     "text": [
      "00:00:00\n"
     ]
    }
   ],
   "source": [
    "a=datetime.time()\n",
    "print(a)"
   ]
  },
  {
   "cell_type": "code",
   "execution_count": 17,
   "id": "5ae0a1f0",
   "metadata": {},
   "outputs": [
    {
     "name": "stdout",
     "output_type": "stream",
     "text": [
      "2022-12-03 00:00:00\n"
     ]
    }
   ],
   "source": [
    "from datetime import datetime\n",
    "a=datetime(2022,12,3)\n",
    "print(a)"
   ]
  },
  {
   "cell_type": "code",
   "execution_count": 18,
   "id": "29df9075",
   "metadata": {},
   "outputs": [
    {
     "name": "stdout",
     "output_type": "stream",
     "text": [
      "2022-12-03 03:44:50.005456\n"
     ]
    }
   ],
   "source": [
    "b=datetime(2022,12,3,3,44,50,5456)\n",
    "print(b)"
   ]
  },
  {
   "cell_type": "code",
   "execution_count": 19,
   "id": "c08ea1a0",
   "metadata": {},
   "outputs": [
    {
     "name": "stdout",
     "output_type": "stream",
     "text": [
      "year:- 2022\n",
      "month:- 12\n",
      "day:- 3\n",
      "Hour:- 3\n",
      "minutes:- 44\n",
      "seconds:- 50\n",
      "microseconds:- 5456\n"
     ]
    }
   ],
   "source": [
    "print(\"year:-\",b.year)\n",
    "print(\"month:-\",b.month)\n",
    "print(\"day:-\",b.day)\n",
    "print(\"Hour:-\",b.hour)\n",
    "print(\"minutes:-\",b.minute)\n",
    "print(\"seconds:-\",b.second)\n",
    "print(\"microseconds:-\",b.microsecond)"
   ]
  },
  {
   "cell_type": "code",
   "execution_count": 20,
   "id": "9d3445d8",
   "metadata": {},
   "outputs": [],
   "source": [
    "import datetime \n",
    "d=datetime.datetime.now()"
   ]
  },
  {
   "cell_type": "code",
   "execution_count": 24,
   "id": "b2111593",
   "metadata": {},
   "outputs": [
    {
     "name": "stdout",
     "output_type": "stream",
     "text": [
      "Monday\n"
     ]
    }
   ],
   "source": [
    "print(d.strftime(\"%A\"))"
   ]
  },
  {
   "cell_type": "code",
   "execution_count": 25,
   "id": "57e305af",
   "metadata": {},
   "outputs": [
    {
     "name": "stdout",
     "output_type": "stream",
     "text": [
      "Mon\n"
     ]
    }
   ],
   "source": [
    "print(d.strftime(\"%a\"))"
   ]
  },
  {
   "cell_type": "code",
   "execution_count": 26,
   "id": "07d9ea64",
   "metadata": {},
   "outputs": [
    {
     "name": "stdout",
     "output_type": "stream",
     "text": [
      "1\n"
     ]
    }
   ],
   "source": [
    "print(d.strftime(\"%w\"))"
   ]
  },
  {
   "cell_type": "code",
   "execution_count": 31,
   "id": "eb73724c",
   "metadata": {},
   "outputs": [
    {
     "name": "stdout",
     "output_type": "stream",
     "text": [
      "day of month:- 27\n"
     ]
    }
   ],
   "source": [
    "print(\"day of month:-\",d.strftime(\"%d\"))"
   ]
  },
  {
   "cell_type": "code",
   "execution_count": 32,
   "id": "29901e32",
   "metadata": {},
   "outputs": [
    {
     "name": "stdout",
     "output_type": "stream",
     "text": [
      "month numbe:- 02\n"
     ]
    }
   ],
   "source": [
    "print(\"month numbe:-\",d.strftime(\"%m\"))"
   ]
  },
  {
   "cell_type": "code",
   "execution_count": 33,
   "id": "b9472dff",
   "metadata": {},
   "outputs": [
    {
     "name": "stdout",
     "output_type": "stream",
     "text": [
      "month name short:-  Feb\n"
     ]
    }
   ],
   "source": [
    "print(\"month name short:- \",d.strftime(\"%b\"))"
   ]
  },
  {
   "cell_type": "code",
   "execution_count": 34,
   "id": "73a96144",
   "metadata": {},
   "outputs": [
    {
     "name": "stdout",
     "output_type": "stream",
     "text": [
      "month name full:-  February\n"
     ]
    }
   ],
   "source": [
    "print(\"month name full:- \",d.strftime(\"%B\"))"
   ]
  },
  {
   "cell_type": "code",
   "execution_count": 35,
   "id": "f9f30f0a",
   "metadata": {},
   "outputs": [
    {
     "name": "stdout",
     "output_type": "stream",
     "text": [
      "year short:-  23\n"
     ]
    }
   ],
   "source": [
    "print(\"year short:- \",d.strftime(\"%y\"))"
   ]
  },
  {
   "cell_type": "code",
   "execution_count": 36,
   "id": "0923c073",
   "metadata": {},
   "outputs": [
    {
     "name": "stdout",
     "output_type": "stream",
     "text": [
      "year full:-  2023\n"
     ]
    }
   ],
   "source": [
    "print(\"year full:- \",d.strftime(\"%Y\"))"
   ]
  },
  {
   "cell_type": "code",
   "execution_count": 38,
   "id": "3c486e89",
   "metadata": {},
   "outputs": [
    {
     "name": "stdout",
     "output_type": "stream",
     "text": [
      "hours(24):-  16\n"
     ]
    }
   ],
   "source": [
    "print(\"hours(24):- \",d.strftime(\"%H\"))"
   ]
  },
  {
   "cell_type": "code",
   "execution_count": 39,
   "id": "016b316c",
   "metadata": {},
   "outputs": [
    {
     "name": "stdout",
     "output_type": "stream",
     "text": [
      "hours(12):-  04\n"
     ]
    }
   ],
   "source": [
    "print(\"hours(12):- \",d.strftime(\"%I\"))"
   ]
  },
  {
   "cell_type": "code",
   "execution_count": 41,
   "id": "2ccb652a",
   "metadata": {},
   "outputs": [
    {
     "name": "stdout",
     "output_type": "stream",
     "text": [
      "Minutes:-  04\n"
     ]
    }
   ],
   "source": [
    "print(\"Minutes:- \",d.strftime(\"%M\"))"
   ]
  },
  {
   "cell_type": "code",
   "execution_count": 46,
   "id": "cd10adcf",
   "metadata": {},
   "outputs": [
    {
     "name": "stdout",
     "output_type": "stream",
     "text": [
      "seconds:-  54\n"
     ]
    }
   ],
   "source": [
    "print(\"seconds:- \",d.strftime(\"%S\"))"
   ]
  },
  {
   "cell_type": "code",
   "execution_count": 48,
   "id": "0e9b4569",
   "metadata": {},
   "outputs": [
    {
     "name": "stdout",
     "output_type": "stream",
     "text": [
      "micro-seconds:-  871795\n"
     ]
    }
   ],
   "source": [
    "print(\"micro-seconds:- \",d.strftime(\"%f\"))"
   ]
  },
  {
   "cell_type": "code",
   "execution_count": 49,
   "id": "e72d6f96",
   "metadata": {},
   "outputs": [
    {
     "name": "stdout",
     "output_type": "stream",
     "text": [
      "day of year:-  058\n"
     ]
    }
   ],
   "source": [
    "print(\"day of year:- \",d.strftime(\"%j\"))"
   ]
  },
  {
   "cell_type": "code",
   "execution_count": 51,
   "id": "07bc34a1",
   "metadata": {},
   "outputs": [
    {
     "name": "stdout",
     "output_type": "stream",
     "text": [
      "week no / year:-  09\n"
     ]
    }
   ],
   "source": [
    "print(\"week no / year:- \",d.strftime(\"%U\"))"
   ]
  },
  {
   "cell_type": "code",
   "execution_count": 53,
   "id": "3daa45b8",
   "metadata": {},
   "outputs": [
    {
     "name": "stdout",
     "output_type": "stream",
     "text": [
      "week no / year:-  09\n"
     ]
    }
   ],
   "source": [
    "print(\"week no / year:- \",d.strftime(\"%W\"))"
   ]
  },
  {
   "cell_type": "code",
   "execution_count": null,
   "id": "a4bc5015",
   "metadata": {},
   "outputs": [],
   "source": []
  }
 ],
 "metadata": {
  "kernelspec": {
   "display_name": "Python 3",
   "language": "python",
   "name": "python3"
  },
  "language_info": {
   "codemirror_mode": {
    "name": "ipython",
    "version": 3
   },
   "file_extension": ".py",
   "mimetype": "text/x-python",
   "name": "python",
   "nbconvert_exporter": "python",
   "pygments_lexer": "ipython3",
   "version": "3.8.8"
  }
 },
 "nbformat": 4,
 "nbformat_minor": 5
}
