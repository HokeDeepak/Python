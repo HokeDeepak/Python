{
 "cells": [
  {
   "cell_type": "code",
   "execution_count": null,
   "id": "40c0d94d",
   "metadata": {},
   "outputs": [],
   "source": [
    "# 1) If statement\n",
    "\n",
    "\n",
    "n=int(input(\"Enter a Number\",))\n",
    "\n",
    "if n%2==0:\n",
    "    print(\"Enter Number is Even Number\")"
   ]
  },
  {
   "cell_type": "code",
   "execution_count": null,
   "id": "5cfcc5bf",
   "metadata": {},
   "outputs": [],
   "source": [
    "# 1) If_Else statement\n",
    "\n",
    "\n",
    "n=int(input(\"Enter a Number\",))\n",
    "\n",
    "if n%2==0:\n",
    "    print(\"Enter Number is Even Number\")\n",
    "else:\n",
    "    print(\"Enter Number is Odd\")"
   ]
  },
  {
   "cell_type": "code",
   "execution_count": null,
   "id": "8fa98009",
   "metadata": {},
   "outputs": [],
   "source": [
    "# 2) If_Else statement\n",
    "\n",
    "\n",
    "n=int(input(\"Enter a Number\",))\n",
    "\n",
    "if n>=0:\n",
    "    print(\"Enter Number is Positive\")\n",
    "elif \n",
    "else:\n",
    "    print(\"Enter Number is Negative\")"
   ]
  },
  {
   "cell_type": "code",
   "execution_count": null,
   "id": "81bc159c",
   "metadata": {},
   "outputs": [],
   "source": [
    "# WAP to find gratest of two numbers\n",
    "\n",
    "\n",
    "a=int(input(\"Enter a Number\",))\n",
    "b=int(input(\"Enter a Number\",))\n",
    "\n",
    "if a>b:\n",
    "    print(\"Enter Number A is Grater\")\n",
    "else:\n",
    "    print(\"Enter Number B is smaller\")"
   ]
  },
  {
   "cell_type": "code",
   "execution_count": null,
   "id": "e06d534d",
   "metadata": {},
   "outputs": [],
   "source": [
    "#Login password\n",
    "\n",
    "username=input(\"enter username\")\n",
    "password=input(\"enter password\")\n",
    "\n",
    "if username=='admin'and password=='admin':\n",
    "    print(\"Login Successful\")\n",
    "else :\n",
    "    print(\"Login Failed\")"
   ]
  },
  {
   "cell_type": "code",
   "execution_count": null,
   "id": "f9c745b5",
   "metadata": {
    "scrolled": true
   },
   "outputs": [],
   "source": [
    "# 3) If elif else statement\n",
    "\n",
    "\n",
    "# WAP to find gratest of three numbers\n",
    "\n",
    "\n",
    "a=int(input(\"Enter a Number\",))\n",
    "b=int(input(\"Enter a Number\",))\n",
    "c=int(input(\"Enter a Number\",))\n",
    "\n",
    "if (a>b and a>c):\n",
    "    print(\"Enter Number A is Grater\")\n",
    "elif b>c and b>a:\n",
    "    print(\"Enter Number B is Grater\")\n",
    "else:\n",
    "    print(\"Enter Number c is Grater\")"
   ]
  },
  {
   "cell_type": "code",
   "execution_count": null,
   "id": "6feb4399",
   "metadata": {},
   "outputs": [],
   "source": [
    "# choice maths\n",
    "\n",
    "print(\"Menu\")\n",
    "print(\"--------------------\")\n",
    "print(\"1.Addition\\n2.substraction\\n3.multiplication\\n4.division\\n5.floor division\\n6.power\")\n",
    "print(\"--------------------\")\n",
    "\n",
    "ch=int(input(\"Enter your choice - \"))\n",
    "a=int(input(\"Enter 1st number - \"))\n",
    "b=int(input(\"Enter 2nd number - \"))\n",
    "\n",
    "if ch==1:\n",
    "    add=a+b\n",
    "    print(\"Addition of two numbers - \",add)\n",
    "elif ch==2:\n",
    "    sub=a-b\n",
    "    print(\"Substraction of two numbers - \",sub)\n",
    "elif ch==3:\n",
    "    mul=a*b\n",
    "    print(\"Multiplication of two numbers\",mul)\n",
    "elif ch==4:\n",
    "    div=a/b\n",
    "    print(\"Division of two numbers\",div)\n",
    "elif ch==5:\n",
    "    fdiv=a//b\n",
    "    print(\"Floor Division of two numbers\",fdiv)\n",
    "elif ch==6:\n",
    "    p=a**b\n",
    "    print(\"A to the power B is\",p)\n",
    "else:\n",
    "    print(\"wrong choice\")\n",
    "    "
   ]
  },
  {
   "cell_type": "code",
   "execution_count": null,
   "id": "639fca3e",
   "metadata": {},
   "outputs": [],
   "source": [
    "# choice area/perimeter\n",
    "\n",
    "print(\"Menu\")\n",
    "print(\"--------------------\")\n",
    "print(\"1.Area of circle\\n2.perimeter of circle\\n3.Area of rectangle\\n4.perimeter of rectangle\\n\")\n",
    "print(\"--------------------\")\n",
    "\n",
    "ch=int(input(\"Enter your choice - \"))\n",
    "\n",
    "if ch==1:\n",
    "    p=3.14159265359\n",
    "    r=int(input(\"enter length of radius - \"))\n",
    "    area_circle=p*r*r\n",
    "    print(\"Area of circle = \",area_circle)\n",
    "\n",
    "elif ch==2:\n",
    "    p=3.14159265359\n",
    "    r=int(input(\"enter length of radius - \"))\n",
    "    peri_circle=2*p*r\n",
    "    print(\"perimeter of circle = \",peri_circle)\n",
    "    \n",
    "elif ch==3:\n",
    "    l=int(input(\"enter length - \"))\n",
    "    b=int(input(\"enter breadth - \"))\n",
    "    area_rectangle=l*b\n",
    "    print(\"Area of rectangle = \",area_rectangle)\n",
    "    \n",
    "elif ch==4:\n",
    "    l=int(input(\"enter length - \",))\n",
    "    b=int(input(\"enter breadth - \",))\n",
    "    peri_rectangle=2(l+b)\n",
    "    print(\"perimeter of circle = \",peri_rectangle)\n",
    "    \n",
    "else:\n",
    "    print(\"wrong choice\")"
   ]
  },
  {
   "cell_type": "code",
   "execution_count": null,
   "id": "1dfd96ee",
   "metadata": {},
   "outputs": [],
   "source": []
  },
  {
   "cell_type": "code",
   "execution_count": 5,
   "id": "5093721d",
   "metadata": {},
   "outputs": [
    {
     "name": "stdout",
     "output_type": "stream",
     "text": [
      "Enter 1st number - 2\n",
      "Enter 2nd number - 2\n",
      "Enter 3rd number - 2\n",
      "C is Grater\n"
     ]
    }
   ],
   "source": [
    "# 4) nasted if else\n",
    "\n",
    "a=int(input(\"Enter 1st number - \"))\n",
    "b=int(input(\"Enter 2nd number - \"))\n",
    "c=int(input(\"Enter 3rd number - \"))\n",
    "\n",
    "if a>b:\n",
    "    if a>c:\n",
    "        print(\"A is Grater\")\n",
    "    else:\n",
    "        print(\"C is Grater\")\n",
    "elif b>c:\n",
    "    print(\"B is Grater\")\n",
    "else:\n",
    "    print(\"C is Grater\")\n"
   ]
  },
  {
   "cell_type": "code",
   "execution_count": 7,
   "id": "e5e9305a",
   "metadata": {},
   "outputs": [
    {
     "name": "stdout",
     "output_type": "stream",
     "text": [
      "Enter a number: 153\n",
      "153 is an Armstrong number\n"
     ]
    }
   ],
   "source": [
    "# Check amstrong number\n",
    "\n",
    "num = int(input(\"Enter a number: \"))\n",
    "sum = 0\n",
    "\n",
    "temp = num\n",
    "\n",
    "while temp > 0:\n",
    "    digit = temp % 10\n",
    "    sum += digit ** 3\n",
    "    temp //= 10\n",
    "    \n",
    "if num == sum:\n",
    "    print(num,\"is an Armstrong number\")\n",
    "else:\n",
    "    print(num,\"is not an Armstrong number\")"
   ]
  },
  {
   "cell_type": "code",
   "execution_count": 12,
   "id": "cc6e64e3",
   "metadata": {},
   "outputs": [
    {
     "name": "stdout",
     "output_type": "stream",
     "text": [
      "Enter a number: 153\n",
      "153 is an Armstrong number\n"
     ]
    }
   ],
   "source": [
    "n = int(input(\"Enter a number: \"))\n",
    "temp = n\n",
    "Sum = 0\n",
    "\n",
    "\n",
    "while n > 0:\n",
    "    digit = n % 10\n",
    "    Sum = Sum + digit** 3\n",
    "    n = n // 10\n",
    "    \n",
    "if num == sum:\n",
    "    print(num,\"is an Armstrong number\")\n",
    "else:\n",
    "    print(num,\"is not an Armstrong number\")"
   ]
  },
  {
   "cell_type": "code",
   "execution_count": null,
   "id": "7324c2c5",
   "metadata": {},
   "outputs": [],
   "source": []
  }
 ],
 "metadata": {
  "kernelspec": {
   "display_name": "Python 3",
   "language": "python",
   "name": "python3"
  },
  "language_info": {
   "codemirror_mode": {
    "name": "ipython",
    "version": 3
   },
   "file_extension": ".py",
   "mimetype": "text/x-python",
   "name": "python",
   "nbconvert_exporter": "python",
   "pygments_lexer": "ipython3",
   "version": "3.8.8"
  }
 },
 "nbformat": 4,
 "nbformat_minor": 5
}
