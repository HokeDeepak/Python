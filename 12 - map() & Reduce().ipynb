{
 "cells": [
  {
   "cell_type": "code",
   "execution_count": 1,
   "id": "9b46817e",
   "metadata": {},
   "outputs": [],
   "source": [
    "# Map function"
   ]
  },
  {
   "cell_type": "code",
   "execution_count": 3,
   "id": "c71ff2e1",
   "metadata": {},
   "outputs": [
    {
     "name": "stdout",
     "output_type": "stream",
     "text": [
      "[8, 64, 216, 512]\n"
     ]
    }
   ],
   "source": [
    "l1=[2,4,6,8]\n",
    "\n",
    "cube=map(lambda x:x**3,l1)\n",
    "print (list(cube))"
   ]
  },
  {
   "cell_type": "code",
   "execution_count": 4,
   "id": "e666def0",
   "metadata": {},
   "outputs": [
    {
     "name": "stdout",
     "output_type": "stream",
     "text": [
      "[4, 16, 36, 64]\n"
     ]
    }
   ],
   "source": [
    "l1=[2,4,6,8]\n",
    "\n",
    "square=map(lambda x:x**2,l1)\n",
    "print (list(square))"
   ]
  },
  {
   "cell_type": "code",
   "execution_count": 7,
   "id": "e3abef4b",
   "metadata": {},
   "outputs": [
    {
     "name": "stdout",
     "output_type": "stream",
     "text": [
      "[8, 64, 216, 512]\n"
     ]
    }
   ],
   "source": [
    "def cube(num):\n",
    "    return num**3\n",
    "\n",
    "c=list(map(cube,l1))\n",
    "print(c)"
   ]
  },
  {
   "cell_type": "code",
   "execution_count": 9,
   "id": "b0b0f6b8",
   "metadata": {},
   "outputs": [
    {
     "name": "stdout",
     "output_type": "stream",
     "text": [
      "[4, 16, 36, 64]\n"
     ]
    }
   ],
   "source": [
    "def cube(num):\n",
    "    return num**2\n",
    "\n",
    "c=list(map(cube,l1))\n",
    "print(c)"
   ]
  },
  {
   "cell_type": "code",
   "execution_count": 11,
   "id": "2e2e44f7",
   "metadata": {},
   "outputs": [],
   "source": [
    "#  Reduce()"
   ]
  },
  {
   "cell_type": "code",
   "execution_count": 12,
   "id": "7622ef34",
   "metadata": {},
   "outputs": [
    {
     "name": "stdout",
     "output_type": "stream",
     "text": [
      "100\n"
     ]
    }
   ],
   "source": [
    "# example: lambda function with reduce()\n",
    "\n",
    "from functools import reduce\n",
    "\n",
    "l1=[10,20,30,40]\n",
    "\n",
    "sum=reduce(lambda x,y:x+y,l1)\n",
    "print(sum)"
   ]
  },
  {
   "cell_type": "code",
   "execution_count": null,
   "id": "bc0f687a",
   "metadata": {},
   "outputs": [],
   "source": []
  }
 ],
 "metadata": {
  "kernelspec": {
   "display_name": "Python 3",
   "language": "python",
   "name": "python3"
  },
  "language_info": {
   "codemirror_mode": {
    "name": "ipython",
    "version": 3
   },
   "file_extension": ".py",
   "mimetype": "text/x-python",
   "name": "python",
   "nbconvert_exporter": "python",
   "pygments_lexer": "ipython3",
   "version": "3.8.8"
  }
 },
 "nbformat": 4,
 "nbformat_minor": 5
}
