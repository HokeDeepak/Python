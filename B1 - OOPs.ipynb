{
 "cells": [
  {
   "cell_type": "code",
   "execution_count": 1,
   "id": "f8ff53b2",
   "metadata": {},
   "outputs": [],
   "source": [
    "# 1)\n",
    "\n",
    "\n",
    "\n",
    "class person:\n",
    "    # parameterized constructor\n",
    "    def __init__(s,name,age,marks):\n",
    "        \n",
    "    # instance variable\n",
    "        s.name = name\n",
    "        s.age = age\n",
    "        s.marks =  marks    \n",
    "    \n",
    "    # instance method\n",
    "    def stud(self):\n",
    "        print(\"name of student:-\",self.name)\n",
    "        print(\"age of student:-\",self.age)\n",
    "        print(\"marks of student:-\",self.marks)"
   ]
  },
  {
   "cell_type": "code",
   "execution_count": 4,
   "id": "695cdaff",
   "metadata": {},
   "outputs": [
    {
     "name": "stdout",
     "output_type": "stream",
     "text": [
      "name of student:- prakash\n",
      "age of student:- 23\n",
      "marks of student:- 78\n"
     ]
    }
   ],
   "source": [
    "# instance or object\n",
    "\n",
    "s1=person('prakash',23,78)\n",
    "s1.stud()"
   ]
  },
  {
   "cell_type": "code",
   "execution_count": 14,
   "id": "74074104",
   "metadata": {},
   "outputs": [],
   "source": [
    "# 2)\n",
    "\n",
    "\n",
    "class employee:\n",
    "    \n",
    "    # class variable\n",
    "    company_name=\"accenture\"\n",
    "    position=\"Employee\"\n",
    "    # parameterized constructor\n",
    "    def __init__(s,name,salary,designation):\n",
    "        \n",
    "    # instance variable\n",
    "        s.name = name\n",
    "        s.salary = salary\n",
    "        s.designation =  designation    \n",
    "    \n",
    "    # instance method\n",
    "    def emp(self):\n",
    "        print(\"name of employee:-\",self.name)\n",
    "        print(\"salary of employee is:-\",self.salary)\n",
    "        print(\"designation of employee is:-\",self.designation)\n",
    "        print(\"Company name is:-\",self.company_name)\n",
    "        \n",
    "#    # class method\n",
    "#    @classmethod\n",
    "#    def role(cls):\n",
    "#        cls.position=\"Employee\""
   ]
  },
  {
   "cell_type": "code",
   "execution_count": 26,
   "id": "9095c083",
   "metadata": {},
   "outputs": [
    {
     "name": "stdout",
     "output_type": "stream",
     "text": [
      "name of employee:- Deepak\n",
      "salary of employee is:- 50000\n",
      "designation of employee is:- Vashi\n",
      "Company name is:- accenture\n"
     ]
    }
   ],
   "source": [
    "# instance or object\n",
    "\n",
    "s1=employee(\"Deepak\",50000,\"Vashi\")\n",
    "s1.emp()"
   ]
  },
  {
   "cell_type": "code",
   "execution_count": null,
   "id": "35a61fe7",
   "metadata": {},
   "outputs": [],
   "source": []
  },
  {
   "cell_type": "code",
   "execution_count": 9,
   "id": "9947d623",
   "metadata": {},
   "outputs": [
    {
     "name": "stdout",
     "output_type": "stream",
     "text": [
      "name of employee:- Deepak\n",
      "salary of employee is:- 50000\n",
      "designation of employee is:- Vashi\n",
      "Company name is:- amazon\n"
     ]
    }
   ],
   "source": [
    "# value cannot change by object\n",
    "s1.company_name=\"amazon\"\n",
    "s1.emp()"
   ]
  },
  {
   "cell_type": "code",
   "execution_count": 10,
   "id": "7af5e1b7",
   "metadata": {},
   "outputs": [
    {
     "name": "stdout",
     "output_type": "stream",
     "text": [
      "name of employee:- Deepak\n",
      "salary of employee is:- 50000\n",
      "designation of employee is:- Vashi\n",
      "Company name is:- amazon\n"
     ]
    }
   ],
   "source": [
    "# value change by class\n",
    "employee.company_name=\"amazon\"\n",
    "s1.emp()"
   ]
  },
  {
   "cell_type": "code",
   "execution_count": null,
   "id": "3fa84658",
   "metadata": {},
   "outputs": [],
   "source": []
  },
  {
   "cell_type": "code",
   "execution_count": null,
   "id": "b2141da4",
   "metadata": {},
   "outputs": [],
   "source": []
  }
 ],
 "metadata": {
  "kernelspec": {
   "display_name": "Python 3",
   "language": "python",
   "name": "python3"
  },
  "language_info": {
   "codemirror_mode": {
    "name": "ipython",
    "version": 3
   },
   "file_extension": ".py",
   "mimetype": "text/x-python",
   "name": "python",
   "nbconvert_exporter": "python",
   "pygments_lexer": "ipython3",
   "version": "3.8.8"
  }
 },
 "nbformat": 4,
 "nbformat_minor": 5
}
