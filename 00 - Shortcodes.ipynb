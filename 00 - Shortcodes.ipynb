{
 "cells": [
  {
   "cell_type": "code",
   "execution_count": 1,
   "id": "db965c60",
   "metadata": {},
   "outputs": [],
   "source": [
    "import os"
   ]
  },
  {
   "cell_type": "code",
   "execution_count": 2,
   "id": "7d05934d",
   "metadata": {},
   "outputs": [
    {
     "name": "stdout",
     "output_type": "stream",
     "text": [
      "C:\\Users\\xyz\\Desktop\\Deepak Samples\n"
     ]
    }
   ],
   "source": [
    "# where my file is stored?\n",
    "print(os.getcwd())"
   ]
  },
  {
   "cell_type": "code",
   "execution_count": 3,
   "id": "2aadc21b",
   "metadata": {},
   "outputs": [],
   "source": [
    "# to create new folder ?\n",
    "os.mkdir(\"C:/Users/xyz/Desktop/Deepak Samples/abc\")"
   ]
  },
  {
   "cell_type": "code",
   "execution_count": 4,
   "id": "635171af",
   "metadata": {},
   "outputs": [
    {
     "name": "stdout",
     "output_type": "stream",
     "text": [
      "C:\\Users\\xyz\\Desktop\\Deepak Samples\n"
     ]
    }
   ],
   "source": [
    "print(os.getcwd())"
   ]
  },
  {
   "cell_type": "code",
   "execution_count": 5,
   "id": "edd4ee45",
   "metadata": {},
   "outputs": [
    {
     "name": "stdout",
     "output_type": "stream",
     "text": [
      "C:\\Users\\xyz\\Desktop\n"
     ]
    }
   ],
   "source": [
    "# to change the directory location\n",
    "os.chdir(\"C:/Users/xyz/Desktop\")\n",
    "print(os.getcwd())"
   ]
  },
  {
   "cell_type": "code",
   "execution_count": null,
   "id": "3ab3eef5",
   "metadata": {},
   "outputs": [],
   "source": [
    "# remove the folder\n",
    "os.rmdir(\"C:/Users/xyz/Desktop/abc\")"
   ]
  },
  {
   "cell_type": "code",
   "execution_count": 10,
   "id": "913b060e",
   "metadata": {},
   "outputs": [
    {
     "name": "stdout",
     "output_type": "stream",
     "text": [
      "['.ipynb_checkpoints', 'adi', 'anand', 'anandmadarc', 'anandmadarcjod', 'ANIKET23', 'archive (2)', 'archive (3)', 'archive (5)', 'archive (6)', 'attachments', 'Customer Segmentation.twbx', 'data-20220926T105059Z-001', 'Datasets', 'Deepak Samples', 'desktop.ini', 'DQL PART 3.docx', 'DWD11-1 pankaj', 'firstproject', 'flask_crud', 'Flask_Project', 'FSK', 'GitHub Desktop.lnk', 'Hard Disk Sentinel.lnk', 'IPL Prediction', 'Java WorkspaceAj', 'komal2to4', 'Krushna', 'match', 'match prediction', 'ML Project', 'nilesh', 'ormproject', 'pushkar java', 'Raj 4-6 pm Git', 'Raj DWD 4-6', 'Raj Tableau', 'Rdipesh py', 'Rv java', 'secondproject', 'sejal', 'WD 06-09-2022']\n"
     ]
    }
   ],
   "source": [
    "# all files on directory\n",
    "print(os.listdir())"
   ]
  },
  {
   "cell_type": "code",
   "execution_count": null,
   "id": "ada29bd3",
   "metadata": {},
   "outputs": [],
   "source": []
  }
 ],
 "metadata": {
  "kernelspec": {
   "display_name": "Python 3",
   "language": "python",
   "name": "python3"
  },
  "language_info": {
   "codemirror_mode": {
    "name": "ipython",
    "version": 3
   },
   "file_extension": ".py",
   "mimetype": "text/x-python",
   "name": "python",
   "nbconvert_exporter": "python",
   "pygments_lexer": "ipython3",
   "version": "3.8.8"
  }
 },
 "nbformat": 4,
 "nbformat_minor": 5
}
