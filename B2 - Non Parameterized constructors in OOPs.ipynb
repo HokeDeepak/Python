{
 "cells": [
  {
   "cell_type": "code",
   "execution_count": 11,
   "id": "ce2f29cb",
   "metadata": {},
   "outputs": [],
   "source": [
    "class student:\n",
    "    def __init__(self):\n",
    "        \n",
    "        # instance variable\n",
    "        self.name=\"Deepak\"\n",
    "        self.age=21\n",
    "        \n",
    "    # instance variable\n",
    "    def stud(self):\n",
    "        print(\"Studnt name:-\",self.name)\n",
    "        print(\"Student age:-\",self.age)"
   ]
  },
  {
   "cell_type": "code",
   "execution_count": 12,
   "id": "12ff8b5a",
   "metadata": {},
   "outputs": [
    {
     "name": "stdout",
     "output_type": "stream",
     "text": [
      "Studnt name:- Deepak\n",
      "Student age:- 21\n"
     ]
    }
   ],
   "source": [
    "s1=student()\n",
    "s1.stud()"
   ]
  },
  {
   "cell_type": "code",
   "execution_count": 6,
   "id": "21d9c56d",
   "metadata": {},
   "outputs": [
    {
     "name": "stdout",
     "output_type": "stream",
     "text": [
      "Studnt name:- Deepak\n",
      "Student age:- 21\n"
     ]
    }
   ],
   "source": [
    "s2=student()\n",
    "s2.stud()"
   ]
  },
  {
   "cell_type": "code",
   "execution_count": 15,
   "id": "39ad0e6e",
   "metadata": {},
   "outputs": [],
   "source": [
    "class student:\n",
    "    def __init__(self):\n",
    "        name=input(\"Enter student name:- \")\n",
    "        marks=int(input(\"Enter a student marks:- \"))\n",
    "        self.name=name\n",
    "        self.marks=marks\n",
    "        \n",
    "    def stud_details(self):\n",
    "        print(\"Name:-\",self.name)\n",
    "        print(\"Marks:-\",self.marks)"
   ]
  },
  {
   "cell_type": "code",
   "execution_count": 16,
   "id": "97566e88",
   "metadata": {},
   "outputs": [
    {
     "name": "stdout",
     "output_type": "stream",
     "text": [
      "Enter student name:- Deepak\n",
      "Enter a student marks:- 80\n",
      "Name:- Deepak\n",
      "Marks:- 80\n"
     ]
    }
   ],
   "source": [
    "s3=student()\n",
    "s3.stud_details()"
   ]
  },
  {
   "cell_type": "code",
   "execution_count": 18,
   "id": "7144a944",
   "metadata": {},
   "outputs": [
    {
     "name": "stdout",
     "output_type": "stream",
     "text": [
      "Name:- Deepak\n",
      "Marks:- 80\n"
     ]
    }
   ],
   "source": [
    "s4=s3\n",
    "s4.stud_details()"
   ]
  },
  {
   "cell_type": "code",
   "execution_count": null,
   "id": "107046a8",
   "metadata": {},
   "outputs": [],
   "source": []
  }
 ],
 "metadata": {
  "kernelspec": {
   "display_name": "Python 3",
   "language": "python",
   "name": "python3"
  },
  "language_info": {
   "codemirror_mode": {
    "name": "ipython",
    "version": 3
   },
   "file_extension": ".py",
   "mimetype": "text/x-python",
   "name": "python",
   "nbconvert_exporter": "python",
   "pygments_lexer": "ipython3",
   "version": "3.8.8"
  }
 },
 "nbformat": 4,
 "nbformat_minor": 5
}
