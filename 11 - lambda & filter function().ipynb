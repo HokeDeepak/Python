{
 "cells": [
  {
   "cell_type": "code",
   "execution_count": 2,
   "id": "e554fc91",
   "metadata": {},
   "outputs": [],
   "source": [
    "# sometimes we declare a function without any name, such type of function are called as nameless functions or annanomyus functions are called as lambda function.\n",
    "\n",
    "\n",
    "# main function of annonymus function is just for instant use(that is for one time uses)\n",
    "\n"
   ]
  },
  {
   "cell_type": "code",
   "execution_count": 5,
   "id": "9eb29085",
   "metadata": {},
   "outputs": [],
   "source": [
    "#  Lambda function  \n",
    "#addition \n",
    "\n",
    "add = lambda x:x+10"
   ]
  },
  {
   "cell_type": "code",
   "execution_count": 6,
   "id": "1e9ffd07",
   "metadata": {},
   "outputs": [
    {
     "name": "stdout",
     "output_type": "stream",
     "text": [
      "40\n",
      "110\n"
     ]
    }
   ],
   "source": [
    "print(add(30))\n",
    "print(add(100))"
   ]
  },
  {
   "cell_type": "code",
   "execution_count": 7,
   "id": "5eda2479",
   "metadata": {},
   "outputs": [
    {
     "name": "stdout",
     "output_type": "stream",
     "text": [
      "4\n",
      "16\n"
     ]
    }
   ],
   "source": [
    "# square\n",
    "\n",
    "square=lambda n:n**2\n",
    "print(square(2))\n",
    "print(square(4))"
   ]
  },
  {
   "cell_type": "code",
   "execution_count": 8,
   "id": "a6a08f41",
   "metadata": {},
   "outputs": [
    {
     "name": "stdout",
     "output_type": "stream",
     "text": [
      "4\n",
      "20\n"
     ]
    }
   ],
   "source": [
    "# addition of two no.\n",
    "\n",
    "s=lambda a,b:a+b\n",
    "print(s(2,2))\n",
    "print(s(4,16))"
   ]
  },
  {
   "cell_type": "code",
   "execution_count": 10,
   "id": "e18159ae",
   "metadata": {},
   "outputs": [
    {
     "name": "stdout",
     "output_type": "stream",
     "text": [
      "23\n",
      "74\n"
     ]
    }
   ],
   "source": [
    "# using lambda find gratest of two mumber\n",
    "\n",
    "a=lambda a,b:a if a>b else b\n",
    "print(a(12,23))\n",
    "print(a(74,64))"
   ]
  },
  {
   "cell_type": "code",
   "execution_count": 13,
   "id": "9a8b2f38",
   "metadata": {},
   "outputs": [
    {
     "data": {
      "text/plain": [
       "35"
      ]
     },
     "execution_count": 13,
     "metadata": {},
     "output_type": "execute_result"
    }
   ],
   "source": [
    "# multiple written statements \n",
    "\n",
    "def add(a,b):\n",
    "    add=a+b\n",
    "    sub=a-b\n",
    "    mul=a*b\n",
    "    return add\n",
    "    return sub\n",
    "    return mul\n",
    "\n",
    "add (12,23)"
   ]
  },
  {
   "cell_type": "code",
   "execution_count": 15,
   "id": "3853343b",
   "metadata": {},
   "outputs": [
    {
     "data": {
      "text/plain": [
       "(35, -11, 276)"
      ]
     },
     "execution_count": 15,
     "metadata": {},
     "output_type": "execute_result"
    }
   ],
   "source": [
    "def add(a,b):\n",
    "    add=a+b\n",
    "    sub=a-b\n",
    "    mul=a*b\n",
    "    return add,sub,mul\n",
    "\n",
    "add (12,23)"
   ]
  },
  {
   "cell_type": "code",
   "execution_count": 30,
   "id": "286d9212",
   "metadata": {},
   "outputs": [
    {
     "data": {
      "text/plain": [
       "[10, 20, 30, 40, 8]"
      ]
     },
     "execution_count": 30,
     "metadata": {},
     "output_type": "execute_result"
    }
   ],
   "source": [
    "# even no without lambda\n",
    "\n",
    "l=[10,20,30,40,3,7,8]\n",
    "l1=[]\n",
    "\n",
    "def even(l):\n",
    "    for i in l:\n",
    "        if i%2==0:\n",
    "            l1.append(i)\n",
    "                return True\n",
    "            false\n",
    "        \n",
    "even(l)"
   ]
  },
  {
   "cell_type": "code",
   "execution_count": 56,
   "id": "87eef4d9",
   "metadata": {},
   "outputs": [
    {
     "data": {
      "text/plain": [
       "True"
      ]
     },
     "execution_count": 56,
     "metadata": {},
     "output_type": "execute_result"
    }
   ],
   "source": [
    "l=[10,20,30,40,3,7,8]\n",
    "l1=[]\n",
    "\n",
    "def even_list(l):\n",
    "    for i in l:\n",
    "        if i%2==0:\n",
    "            l1.append(i)\n",
    "            return True\n",
    "        false\n",
    "        \n",
    "even_list(l)"
   ]
  },
  {
   "cell_type": "code",
   "execution_count": 53,
   "id": "a9a1e3d9",
   "metadata": {},
   "outputs": [
    {
     "name": "stdout",
     "output_type": "stream",
     "text": [
      "[10, 20, 30, 40, 8]\n"
     ]
    }
   ],
   "source": [
    "# even_no with lambda and filter\n",
    "# e.g. 1\n",
    "\n",
    "x=[10,20,30,40,3,7,8]\n",
    "\n",
    "even=lambda x:x%2==0\n",
    "even1=list(filter(even,x))\n",
    "print(even1)"
   ]
  },
  {
   "cell_type": "code",
   "execution_count": 50,
   "id": "721ca42e",
   "metadata": {},
   "outputs": [
    {
     "name": "stdout",
     "output_type": "stream",
     "text": [
      "[1, 2, 3, 4, 5]\n"
     ]
    }
   ],
   "source": [
    "# e.g. 2\n",
    "\n",
    "l1=[1,2,3,4,5,-1,-2,-3,-4,-5]\n",
    "\n",
    "positive=list(filter(lambda l1:l1>0,l1))\n",
    "print (positive)"
   ]
  },
  {
   "cell_type": "code",
   "execution_count": 61,
   "id": "44a35ff0",
   "metadata": {},
   "outputs": [],
   "source": [
    "letter=['a','e','i','o','u','v','x','q','p','z']\n",
    "vowels=['a','e','i','o','u']\n",
    "\n",
    "def filter_vowels(letter):\n",
    "    if letter in vowels:\n",
    "        return True\n",
    "    else:\n",
    "        return False"
   ]
  },
  {
   "cell_type": "code",
   "execution_count": 62,
   "id": "59d10566",
   "metadata": {},
   "outputs": [
    {
     "name": "stdout",
     "output_type": "stream",
     "text": [
      "<filter object at 0x0000017301EFF880>\n",
      "('a', 'e', 'i', 'o', 'u')\n"
     ]
    }
   ],
   "source": [
    "filtered_vowels=filter(filter_vowels,letter)\n",
    "print(filtered_vowels)\n",
    "vowels=tuple(filtered_vowels)\n",
    "print(vowels)"
   ]
  },
  {
   "cell_type": "code",
   "execution_count": null,
   "id": "183363e4",
   "metadata": {},
   "outputs": [],
   "source": []
  }
 ],
 "metadata": {
  "kernelspec": {
   "display_name": "Python 3",
   "language": "python",
   "name": "python3"
  },
  "language_info": {
   "codemirror_mode": {
    "name": "ipython",
    "version": 3
   },
   "file_extension": ".py",
   "mimetype": "text/x-python",
   "name": "python",
   "nbconvert_exporter": "python",
   "pygments_lexer": "ipython3",
   "version": "3.8.8"
  }
 },
 "nbformat": 4,
 "nbformat_minor": 5
}
