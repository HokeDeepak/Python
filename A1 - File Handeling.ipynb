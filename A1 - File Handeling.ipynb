{
 "cells": [
  {
   "cell_type": "code",
   "execution_count": 1,
   "id": "7dee190d",
   "metadata": {},
   "outputs": [],
   "source": [
    "# to store data temp. or permanemtly. \n",
    "# file is collection of data stored on disk in on unit identified by filename.\n",
    "# file operation take palce in order :-\n",
    "    # Open a file\n",
    "    # Read or Write (perform)\n",
    "    # close a file"
   ]
  },
  {
   "cell_type": "code",
   "execution_count": 2,
   "id": "8a7afcf0",
   "metadata": {},
   "outputs": [],
   "source": [
    "# modes \n",
    "\n",
    "\n",
    "# W modes - create new file for writing. \n",
    "# r mode - to read the file  \n",
    "# a mode - append  \n",
    "# x mode - open file exclusive creation, fail if file exist already"
   ]
  },
  {
   "cell_type": "code",
   "execution_count": 6,
   "id": "c8b341b5",
   "metadata": {},
   "outputs": [],
   "source": [
    "# W mode\n",
    "\n",
    "fp=open(\"abc.txt\",\"w\")\n",
    "fp.write(\"Hello My name is Deepak\")\n",
    "fp.close()"
   ]
  },
  {
   "cell_type": "code",
   "execution_count": 7,
   "id": "03296d2f",
   "metadata": {},
   "outputs": [
    {
     "name": "stdout",
     "output_type": "stream",
     "text": [
      "Hello My name is Deepak\n"
     ]
    }
   ],
   "source": [
    "# r Mode\n",
    "\n",
    "fp=open(\"abc.txt\",\"r\")\n",
    "print(fp.read())\n",
    "fp.close()"
   ]
  },
  {
   "cell_type": "code",
   "execution_count": 10,
   "id": "109f28d8",
   "metadata": {},
   "outputs": [],
   "source": [
    "# w Mode\n",
    "\n",
    "fp=open(\"abc.txt\",\"w\")\n",
    "fp.write(\"I am learning python\")\n",
    "fp.close()"
   ]
  },
  {
   "cell_type": "code",
   "execution_count": 11,
   "id": "35bddae8",
   "metadata": {},
   "outputs": [
    {
     "name": "stdout",
     "output_type": "stream",
     "text": [
      "I am learning python\n"
     ]
    }
   ],
   "source": [
    "# r Mode\n",
    "\n",
    "fp=open(\"abc.txt\",\"r\")\n",
    "print(fp.read())\n",
    "fp.close()"
   ]
  },
  {
   "cell_type": "code",
   "execution_count": 12,
   "id": "b900411b",
   "metadata": {},
   "outputs": [],
   "source": [
    "# a mode\n",
    "\n",
    "fp=open(\"abc.txt\",\"a\")\n",
    "fp.write(\"Hello My name is Deepak\")\n",
    "fp.close()"
   ]
  },
  {
   "cell_type": "code",
   "execution_count": 13,
   "id": "6f278123",
   "metadata": {},
   "outputs": [],
   "source": [
    "# x mode - on new file\n",
    "\n",
    "fp=open(\"file1.txt\",\"x\")\n",
    "fp.write(\"Hey there\")\n",
    "fp.close()"
   ]
  },
  {
   "cell_type": "code",
   "execution_count": 14,
   "id": "d57e2574",
   "metadata": {},
   "outputs": [
    {
     "ename": "FileExistsError",
     "evalue": "[Errno 17] File exists: 'abc.txt'",
     "output_type": "error",
     "traceback": [
      "\u001b[1;31m---------------------------------------------------------------------------\u001b[0m",
      "\u001b[1;31mFileExistsError\u001b[0m                           Traceback (most recent call last)",
      "\u001b[1;32m<ipython-input-14-76cfb8dc149a>\u001b[0m in \u001b[0;36m<module>\u001b[1;34m\u001b[0m\n\u001b[1;32m----> 1\u001b[1;33m \u001b[0mfp\u001b[0m\u001b[1;33m=\u001b[0m\u001b[0mopen\u001b[0m\u001b[1;33m(\u001b[0m\u001b[1;34m\"abc.txt\"\u001b[0m\u001b[1;33m,\u001b[0m\u001b[1;34m\"x\"\u001b[0m\u001b[1;33m)\u001b[0m\u001b[1;33m\u001b[0m\u001b[1;33m\u001b[0m\u001b[0m\n\u001b[0m\u001b[0;32m      2\u001b[0m \u001b[0mfp\u001b[0m\u001b[1;33m.\u001b[0m\u001b[0mwrite\u001b[0m\u001b[1;33m(\u001b[0m\u001b[1;34m\"Hello My name is Deepak\"\u001b[0m\u001b[1;33m)\u001b[0m\u001b[1;33m\u001b[0m\u001b[1;33m\u001b[0m\u001b[0m\n\u001b[0;32m      3\u001b[0m \u001b[0mfp\u001b[0m\u001b[1;33m.\u001b[0m\u001b[0mclose\u001b[0m\u001b[1;33m(\u001b[0m\u001b[1;33m)\u001b[0m\u001b[1;33m\u001b[0m\u001b[1;33m\u001b[0m\u001b[0m\n",
      "\u001b[1;31mFileExistsError\u001b[0m: [Errno 17] File exists: 'abc.txt'"
     ]
    }
   ],
   "source": [
    "# x mode - on existing file\n",
    "\n",
    "fp=open(\"abc.txt\",\"x\")\n",
    "fp.write(\"Hello My name is Deepak\")\n",
    "fp.close()"
   ]
  },
  {
   "cell_type": "code",
   "execution_count": 18,
   "id": "a425b9f8",
   "metadata": {},
   "outputs": [],
   "source": [
    "fp=open(\"C://Users/xyz/Desktop/Deepak Samples//abc.txt\",\"w\")\n",
    "fp.write(\"Deepak is a very curious guy\")\n",
    "fp.close()"
   ]
  },
  {
   "cell_type": "code",
   "execution_count": 20,
   "id": "58ec9e73",
   "metadata": {},
   "outputs": [],
   "source": [
    "#-----------------------#"
   ]
  },
  {
   "cell_type": "code",
   "execution_count": 21,
   "id": "d8c61d76",
   "metadata": {},
   "outputs": [
    {
     "name": "stdout",
     "output_type": "stream",
     "text": [
      "Deepak is a very curious guy\n"
     ]
    }
   ],
   "source": [
    "# another way to open fp file is :-\n",
    "\n",
    "with open(\"abc.txt\",\"r\") as fp:\n",
    "    print(fp.read())"
   ]
  },
  {
   "cell_type": "code",
   "execution_count": 32,
   "id": "c2ec7e32",
   "metadata": {},
   "outputs": [],
   "source": [
    "# for multiple line of code\n",
    "\n",
    "with open(\"file3.txt\",\"w\") as fp:\n",
    "    fp.write(\"python programming\")\n",
    "    fp.write(\"\\n\")\n",
    "    fp.write(\"tableau\")\n",
    "    fp.write(\"\\n\")\n",
    "    fp.write(\"java\")\n",
    "    fp.write(\"\\n\")\n",
    "    fp.write(\"matchine learning\")"
   ]
  },
  {
   "cell_type": "code",
   "execution_count": 34,
   "id": "88ee4e57",
   "metadata": {},
   "outputs": [
    {
     "name": "stdout",
     "output_type": "stream",
     "text": [
      "python programming\n",
      "tableau\n",
      "java\n",
      "matchine learning\n"
     ]
    }
   ],
   "source": [
    "# for entire lines output\n",
    "with open (\"file3.txt\",\"r\") as fp:\n",
    "    print(fp.read())"
   ]
  },
  {
   "cell_type": "code",
   "execution_count": 35,
   "id": "13843be9",
   "metadata": {},
   "outputs": [
    {
     "name": "stdout",
     "output_type": "stream",
     "text": [
      "pyth\n"
     ]
    }
   ],
   "source": [
    "# for ranged character output\n",
    "with open (\"file3.txt\",\"r\") as fp:\n",
    "    print(fp.read(4))"
   ]
  },
  {
   "cell_type": "code",
   "execution_count": 36,
   "id": "21306335",
   "metadata": {},
   "outputs": [
    {
     "name": "stdout",
     "output_type": "stream",
     "text": [
      "python programming\n",
      "\n"
     ]
    }
   ],
   "source": [
    "# for single line output\n",
    "with open (\"file3.txt\",\"r\") as fp:\n",
    "    print(fp.readline())"
   ]
  },
  {
   "cell_type": "code",
   "execution_count": 37,
   "id": "2f5ec57c",
   "metadata": {},
   "outputs": [
    {
     "name": "stdout",
     "output_type": "stream",
     "text": [
      "python programming\n",
      "\n",
      "tableau\n",
      "\n"
     ]
    }
   ],
   "source": [
    "# for limited line output\n",
    "with open (\"file3.txt\",\"r\") as fp:\n",
    "    a=fp.readline()\n",
    "    print(a)\n",
    "    b=fp.readline()\n",
    "    print(b)"
   ]
  },
  {
   "cell_type": "code",
   "execution_count": 40,
   "id": "d94a2c82",
   "metadata": {},
   "outputs": [
    {
     "name": "stdout",
     "output_type": "stream",
     "text": [
      "['python programming\\n', 'tableau\\n', 'java\\n', 'matchine learning']\n"
     ]
    }
   ],
   "source": [
    "with open (\"file3.txt\",\"r\") as fp:\n",
    "    print(fp.readlines())"
   ]
  },
  {
   "cell_type": "code",
   "execution_count": 41,
   "id": "f2ac65f2",
   "metadata": {},
   "outputs": [],
   "source": [
    "l1=[\"Deep Learning\",\"\\n\",\"power bi\"]\n",
    "with open(\"file3.txt\",\"w\") as fp:\n",
    "    fp.writelines(l1)"
   ]
  },
  {
   "cell_type": "code",
   "execution_count": null,
   "id": "540ff6d9",
   "metadata": {},
   "outputs": [],
   "source": []
  }
 ],
 "metadata": {
  "kernelspec": {
   "display_name": "Python 3",
   "language": "python",
   "name": "python3"
  },
  "language_info": {
   "codemirror_mode": {
    "name": "ipython",
    "version": 3
   },
   "file_extension": ".py",
   "mimetype": "text/x-python",
   "name": "python",
   "nbconvert_exporter": "python",
   "pygments_lexer": "ipython3",
   "version": "3.8.8"
  }
 },
 "nbformat": 4,
 "nbformat_minor": 5
}
