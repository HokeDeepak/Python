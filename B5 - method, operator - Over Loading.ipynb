{
 "cells": [
  {
   "cell_type": "code",
   "execution_count": 1,
   "id": "fc666430",
   "metadata": {},
   "outputs": [],
   "source": [
    "# method overroading -\n",
    "# we can use same operator or methods for different purpose."
   ]
  },
  {
   "cell_type": "code",
   "execution_count": 12,
   "id": "71007633",
   "metadata": {},
   "outputs": [],
   "source": [
    "class test:\n",
    "    def m1(self):\n",
    "        print(\"with no arguments\")\n",
    "    \n",
    "    def m1(self,a):\n",
    "        print(\"with one argument\")\n",
    "        \n",
    "    def m1(self,a,b):\n",
    "        print(\"with two argument\")\n",
    "        "
   ]
  },
  {
   "cell_type": "code",
   "execution_count": 17,
   "id": "cb5bc9cd",
   "metadata": {},
   "outputs": [],
   "source": [
    "t=test()"
   ]
  },
  {
   "cell_type": "code",
   "execution_count": 18,
   "id": "bc816051",
   "metadata": {},
   "outputs": [
    {
     "name": "stdout",
     "output_type": "stream",
     "text": [
      "with two argument\n"
     ]
    }
   ],
   "source": [
    "t.m1(10,20)"
   ]
  },
  {
   "cell_type": "code",
   "execution_count": null,
   "id": "04e45a3b",
   "metadata": {},
   "outputs": [],
   "source": []
  },
  {
   "cell_type": "code",
   "execution_count": 4,
   "id": "da3b7b5a",
   "metadata": {},
   "outputs": [],
   "source": [
    "# operator overloading -\n",
    "\n",
    "class book:\n",
    "    def __init(self,pages):\n",
    "        self.pages=pages\n",
    "        \n",
    "    def __add__(s1,s2):\n",
    "        return s1.pages+s2.pages"
   ]
  },
  {
   "cell_type": "code",
   "execution_count": 10,
   "id": "8ab7c99a",
   "metadata": {},
   "outputs": [
    {
     "ename": "TypeError",
     "evalue": "book() takes no arguments",
     "output_type": "error",
     "traceback": [
      "\u001b[1;31m---------------------------------------------------------------------------\u001b[0m",
      "\u001b[1;31mTypeError\u001b[0m                                 Traceback (most recent call last)",
      "\u001b[1;32m<ipython-input-10-4fe4a5a88fd0>\u001b[0m in \u001b[0;36m<module>\u001b[1;34m\u001b[0m\n\u001b[1;32m----> 1\u001b[1;33m \u001b[0mb1\u001b[0m\u001b[1;33m=\u001b[0m\u001b[0mbook\u001b[0m\u001b[1;33m(\u001b[0m\u001b[1;36m300\u001b[0m\u001b[1;33m)\u001b[0m\u001b[1;33m\u001b[0m\u001b[1;33m\u001b[0m\u001b[0m\n\u001b[0m\u001b[0;32m      2\u001b[0m \u001b[0mb2\u001b[0m\u001b[1;33m=\u001b[0m\u001b[0mbook\u001b[0m\u001b[1;33m(\u001b[0m\u001b[1;36m200\u001b[0m\u001b[1;33m)\u001b[0m\u001b[1;33m\u001b[0m\u001b[1;33m\u001b[0m\u001b[0m\n\u001b[0;32m      3\u001b[0m \u001b[0mprint\u001b[0m\u001b[1;33m(\u001b[0m\u001b[0mb1\u001b[0m\u001b[1;33m+\u001b[0m\u001b[0mb2\u001b[0m\u001b[1;33m)\u001b[0m\u001b[1;33m\u001b[0m\u001b[1;33m\u001b[0m\u001b[0m\n",
      "\u001b[1;31mTypeError\u001b[0m: book() takes no arguments"
     ]
    }
   ],
   "source": [
    "b1=book(300)\n",
    "b2=book(200)\n",
    "print(b1+b2)"
   ]
  },
  {
   "cell_type": "code",
   "execution_count": 8,
   "id": "dd6df1de",
   "metadata": {},
   "outputs": [
    {
     "name": "stdout",
     "output_type": "stream",
     "text": [
      "30\n",
      "30\n"
     ]
    }
   ],
   "source": [
    "a=10\n",
    "b=20\n",
    "print(a+b)\n",
    "print(int.__add__(a,b))"
   ]
  },
  {
   "cell_type": "code",
   "execution_count": 14,
   "id": "c6a67d33",
   "metadata": {},
   "outputs": [
    {
     "name": "stdout",
     "output_type": "stream",
     "text": [
      "abcxyz\n",
      "abcxyz\n"
     ]
    }
   ],
   "source": [
    "a1=\"abc\"\n",
    "b1=\"xyz\"\n",
    "print(a1+b1)\n",
    "print(str.__add__(a1,b1))"
   ]
  },
  {
   "cell_type": "code",
   "execution_count": null,
   "id": "78958e1c",
   "metadata": {},
   "outputs": [],
   "source": []
  }
 ],
 "metadata": {
  "kernelspec": {
   "display_name": "Python 3",
   "language": "python",
   "name": "python3"
  },
  "language_info": {
   "codemirror_mode": {
    "name": "ipython",
    "version": 3
   },
   "file_extension": ".py",
   "mimetype": "text/x-python",
   "name": "python",
   "nbconvert_exporter": "python",
   "pygments_lexer": "ipython3",
   "version": "3.8.8"
  }
 },
 "nbformat": 4,
 "nbformat_minor": 5
}
