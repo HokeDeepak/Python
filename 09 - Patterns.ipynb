{
 "cells": [
  {
   "cell_type": "code",
   "execution_count": 6,
   "id": "9c953304",
   "metadata": {},
   "outputs": [
    {
     "name": "stdout",
     "output_type": "stream",
     "text": [
      "# # # # \n",
      "# # # # \n",
      "# # # # \n",
      "# # # # "
     ]
    }
   ],
   "source": [
    "# # # #\n",
    "# # # #\n",
    "# # # #\n",
    "# # # #\n",
    "\n",
    "\n",
    "# to print single # we use print('#')\n",
    "\n",
    "# this is normal method to print by same sentence\n",
    "\n",
    "for i in range (1,5):\n",
    "    print(\"#\", end=\" \")\n",
    "print()\n",
    "for i in range (1,5):\n",
    "    print(\"#\", end=\" \")\n",
    "print()\n",
    "for i in range (1,5):\n",
    "    print(\"#\", end=\" \")\n",
    "print()\n",
    "for i in range (1,5):\n",
    "    print(\"#\", end=\" \")"
   ]
  },
  {
   "cell_type": "code",
   "execution_count": 21,
   "id": "2e56a9dc",
   "metadata": {},
   "outputs": [
    {
     "name": "stdout",
     "output_type": "stream",
     "text": [
      "# # # # \n",
      "# # # # \n",
      "# # # # \n",
      "# # # # \n"
     ]
    }
   ],
   "source": [
    "for i in range (1,5):\n",
    "    for j in range(1,5):\n",
    "        print(\"#\", end=\" \")\n",
    "    print()"
   ]
  },
  {
   "cell_type": "code",
   "execution_count": 26,
   "id": "703fc791",
   "metadata": {},
   "outputs": [
    {
     "name": "stdout",
     "output_type": "stream",
     "text": [
      "# \n",
      "# # \n",
      "# # # \n",
      "# # # # \n"
     ]
    }
   ],
   "source": [
    "n=5\n",
    "for i in range (1,n):\n",
    "    for j in range(i):\n",
    "        print(\"#\", end=\" \")\n",
    "    print()"
   ]
  },
  {
   "cell_type": "code",
   "execution_count": 34,
   "id": "6d6bfa9c",
   "metadata": {},
   "outputs": [
    {
     "name": "stdout",
     "output_type": "stream",
     "text": [
      "1 \n",
      "1 2 \n",
      "1 2 3 \n",
      "1 2 3 4 \n",
      "1 2 3 4 5 \n"
     ]
    }
   ],
   "source": [
    "num=1\n",
    "for i in range(0, n):\n",
    "    num=1\n",
    "    for j in range(0, i+1):\n",
    "        print(num, end=\" \")\n",
    "        num = num + 1\n",
    "    print()"
   ]
  },
  {
   "cell_type": "code",
   "execution_count": 47,
   "id": "44cc73c7",
   "metadata": {},
   "outputs": [
    {
     "name": "stdout",
     "output_type": "stream",
     "text": [
      "# # # # \n",
      "# # # \n",
      "# # \n",
      "# \n"
     ]
    }
   ],
   "source": [
    "for i in range (1,5):\n",
    "    for j in range(i,5):\n",
    "        print(\"#\", end=\" \")\n",
    "    print()"
   ]
  },
  {
   "cell_type": "code",
   "execution_count": 49,
   "id": "03fe17b0",
   "metadata": {},
   "outputs": [
    {
     "name": "stdout",
     "output_type": "stream",
     "text": [
      "1 2 3 4 \n",
      "1 2 3 \n",
      "1 2 \n",
      "1 \n"
     ]
    }
   ],
   "source": [
    "for i in range (1,5):\n",
    "    for j in range(1,6-i):\n",
    "        print(j, end=\" \")\n",
    "    print()"
   ]
  },
  {
   "cell_type": "code",
   "execution_count": 54,
   "id": "8af4f468",
   "metadata": {},
   "outputs": [
    {
     "name": "stdout",
     "output_type": "stream",
     "text": [
      "1 2 3 4 5 6 7 8 9 10 \n",
      "2 4 6 8 10 12 14 16 18 20 \n",
      "3 6 9 12 15 18 21 24 27 30 \n",
      "4 8 12 16 20 24 28 32 36 40 \n",
      "5 10 15 20 25 30 35 40 45 50 \n",
      "6 12 18 24 30 36 42 48 54 60 \n",
      "7 14 21 28 35 42 49 56 63 70 \n",
      "8 16 24 32 40 48 56 64 72 80 \n",
      "9 18 27 36 45 54 63 72 81 90 \n",
      "10 20 30 40 50 60 70 80 90 100 \n"
     ]
    }
   ],
   "source": [
    "for i in range(1,11):\n",
    "    for j in range(1,11):\n",
    "        print(i*j, end =\" \")\n",
    "    print()"
   ]
  },
  {
   "cell_type": "code",
   "execution_count": 63,
   "id": "a6d168ee",
   "metadata": {},
   "outputs": [
    {
     "name": "stdout",
     "output_type": "stream",
     "text": [
      "enter a number 1\n",
      "1 x 1 = 1\n",
      "1 x 2 = 2\n",
      "1 x 3 = 3\n",
      "1 x 4 = 4\n",
      "1 x 5 = 5\n",
      "1 x 6 = 6\n",
      "1 x 7 = 7\n",
      "1 x 8 = 8\n",
      "1 x 9 = 9\n",
      "1 x 10 = 10\n"
     ]
    }
   ],
   "source": [
    "n=int(input(\"enter a number \",))\n",
    "for i in range(1,11):\n",
    "    print(n,\"x\",i,\"=\",n*i)"
   ]
  },
  {
   "cell_type": "code",
   "execution_count": 68,
   "id": "0ed4b128",
   "metadata": {},
   "outputs": [
    {
     "name": "stdout",
     "output_type": "stream",
     "text": [
      "1 2 3 4 6 7 8 9 11 12 13 14 16 17 18 19 21 22 23 24 26 27 28 29 31 32 33 34 36 37 38 39 41 42 43 44 46 47 48 49 "
     ]
    }
   ],
   "source": [
    "# continue statement\n",
    "\n",
    "for a in range(1,51):\n",
    "    if(a%5==0):\n",
    "        continue\n",
    "    print(a,end=\" \")"
   ]
  },
  {
   "cell_type": "code",
   "execution_count": 69,
   "id": "14ad22d3",
   "metadata": {},
   "outputs": [
    {
     "name": "stdout",
     "output_type": "stream",
     "text": [
      "1 2 3 4 "
     ]
    }
   ],
   "source": [
    "# Break Statement\n",
    "\n",
    "for a in range(1,51):\n",
    "    if(a%5==0):\n",
    "        break\n",
    "    print(a,end=\" \")"
   ]
  },
  {
   "cell_type": "code",
   "execution_count": 71,
   "id": "bcab0410",
   "metadata": {},
   "outputs": [
    {
     "name": "stdout",
     "output_type": "stream",
     "text": [
      "1\n",
      "3\n",
      "5\n",
      "7\n",
      "9\n"
     ]
    }
   ],
   "source": [
    "for i in range (1,11):\n",
    "    if i%2==0:\n",
    "        pass\n",
    "    else:\n",
    "        print(i)"
   ]
  },
  {
   "cell_type": "code",
   "execution_count": 88,
   "id": "ea07ddfa",
   "metadata": {},
   "outputs": [],
   "source": [
    "for i in range(1,21):\n",
    "    if(i%3==0 and 1%5==0):\n",
    "        print(i)\n",
    "        continue"
   ]
  },
  {
   "cell_type": "code",
   "execution_count": 90,
   "id": "bfed2176",
   "metadata": {},
   "outputs": [
    {
     "name": "stdout",
     "output_type": "stream",
     "text": [
      "10\n",
      "20\n",
      "add money\n",
      "add money\n",
      "add money\n",
      "50\n"
     ]
    }
   ],
   "source": [
    "cart=[10,20,300,400,100.30,50]\n",
    "for i in cart:\n",
    "    if i>100:\n",
    "        print(\"add money\")\n",
    "        continue\n",
    "    print(i)"
   ]
  },
  {
   "cell_type": "code",
   "execution_count": 97,
   "id": "e7d6da46",
   "metadata": {},
   "outputs": [
    {
     "name": "stdout",
     "output_type": "stream",
     "text": [
      "2 4 6 8 10 "
     ]
    }
   ],
   "source": [
    "for a in range(1,11):\n",
    "    if(a%2==0):\n",
    "        continue\n",
    "    print(a+1,end=\" \")"
   ]
  },
  {
   "cell_type": "code",
   "execution_count": 2,
   "id": "b5a52a67",
   "metadata": {},
   "outputs": [
    {
     "name": "stdout",
     "output_type": "stream",
     "text": [
      "2000\n",
      "2000\n"
     ]
    }
   ],
   "source": [
    "#leap year\n",
    "\n",
    "year=int(input())\n",
    "\n",
    "if ((year%4==0) or (year%400==0)):\n",
    "    print(year)\n",
    "\n",
    "else:\n",
    "    print(year)"
   ]
  },
  {
   "cell_type": "code",
   "execution_count": 3,
   "id": "203ebcfd",
   "metadata": {},
   "outputs": [
    {
     "name": "stdout",
     "output_type": "stream",
     "text": [
      "9\n",
      "Not a prime\n"
     ]
    }
   ],
   "source": [
    "# prime no\n",
    "\n",
    "n=int(input())\n",
    "\n",
    "if n==1:\n",
    "    print(\"1 is not a prime no\")\n",
    "elif n>=2:\n",
    "    for i in range(2,n):\n",
    "        flag=0\n",
    "        if (n%1==0):\n",
    "            flag=1\n",
    "            break\n",
    "    if (flag==0):\n",
    "        print(\"prime number\")\n",
    "    else:\n",
    "        print(\"Not a prime\")\n",
    "else:\n",
    "    print(\"invalid input\")"
   ]
  },
  {
   "cell_type": "code",
   "execution_count": 6,
   "id": "bff0009f",
   "metadata": {},
   "outputs": [
    {
     "name": "stdout",
     "output_type": "stream",
     "text": [
      "7\n",
      "7 is not a prime no\n",
      "prime number\n"
     ]
    }
   ],
   "source": [
    "# prime no\n",
    "\n",
    "n=int(input())\n",
    "\n",
    "if n==1:\n",
    "    print(\"1 is not a prime no\")\n",
    "elif n>=2:\n",
    "    for i in range(2,n):\n",
    "        flag=0\n",
    "        if (n%1==0):\n",
    "            print(n,\"is not a prime no\")\n",
    "            break\n",
    "    if (flag==0):\n",
    "        print(\"prime number\")\n",
    "else:\n",
    "    print(\"invalid input\")"
   ]
  },
  {
   "cell_type": "code",
   "execution_count": 12,
   "id": "a6f633b0",
   "metadata": {},
   "outputs": [
    {
     "name": "stdout",
     "output_type": "stream",
     "text": [
      "Enter amount you want to withdraw6000\n",
      "remaining balance 4000\n"
     ]
    }
   ],
   "source": [
    "#atm withdrawl\n",
    "\n",
    "cash=int(input(\"Enter amount you want to withdraw\"))\n",
    "bal=10000\n",
    "\n",
    "if (cash>bal):\n",
    "    print(\"Insufficient Balance\")\n",
    "elif cash>=100 and cash<=bal:\n",
    "    bal=bal-cash\n",
    "    print(\"remaining balance\", bal)\n",
    "elif cash<100:\n",
    "    print(\"you can not withdraw less than 100\")\n",
    "else:\n",
    "    print(\"matchine is running out of cash\")"
   ]
  },
  {
   "cell_type": "code",
   "execution_count": 18,
   "id": "4e2c474b",
   "metadata": {},
   "outputs": [
    {
     "name": "stdout",
     "output_type": "stream",
     "text": [
      "['p', 'y', 't', 'h', 'o', 'n']\n"
     ]
    }
   ],
   "source": [
    "s1=\"python\"\n",
    "l=[]\n",
    "for i in s1:\n",
    "    l.append(i)\n",
    "print(l)"
   ]
  },
  {
   "cell_type": "code",
   "execution_count": 19,
   "id": "4743f718",
   "metadata": {},
   "outputs": [
    {
     "data": {
      "text/plain": [
       "['p', 'y', 't', 'h', 'o', 'n']"
      ]
     },
     "execution_count": 19,
     "metadata": {},
     "output_type": "execute_result"
    }
   ],
   "source": [
    "#- comprihention \n",
    "\n",
    "# expression/outut for val in seq \n",
    "\n",
    "[i for i in s1]"
   ]
  },
  {
   "cell_type": "code",
   "execution_count": 20,
   "id": "65aba5b9",
   "metadata": {},
   "outputs": [
    {
     "name": "stdout",
     "output_type": "stream",
     "text": [
      "[2, 4, 6, 8, 10, 12, 14, 16, 18, 20]\n"
     ]
    }
   ],
   "source": [
    "even=[]\n",
    "for i in range (1,21):\n",
    "    if i%2==0:\n",
    "        even.append(i)\n",
    "print(even)"
   ]
  },
  {
   "cell_type": "code",
   "execution_count": 21,
   "id": "27804c75",
   "metadata": {},
   "outputs": [
    {
     "data": {
      "text/plain": [
       "[2, 4, 6, 8, 10, 12, 14, 16, 18, 20]"
      ]
     },
     "execution_count": 21,
     "metadata": {},
     "output_type": "execute_result"
    }
   ],
   "source": [
    "[i for i in range(1,21) if i%2==0]"
   ]
  },
  {
   "cell_type": "code",
   "execution_count": 22,
   "id": "76e71fcc",
   "metadata": {},
   "outputs": [
    {
     "name": "stdout",
     "output_type": "stream",
     "text": [
      "['odd', 'even', 'odd', 'even', 'odd', 'even', 'odd', 'even', 'odd', 'even', 'odd', 'even', 'odd', 'even', 'odd', 'even', 'odd', 'even', 'odd', 'even']\n"
     ]
    }
   ],
   "source": [
    "even=[\"even\" if i%2==0 else \"odd\" for i in range(1,21)]\n",
    "print(even)"
   ]
  },
  {
   "cell_type": "code",
   "execution_count": 34,
   "id": "0c70761c",
   "metadata": {},
   "outputs": [
    {
     "name": "stdout",
     "output_type": "stream",
     "text": [
      "Apple\n",
      "Banana\n",
      "Cherry\n",
      "Mango\n"
     ]
    }
   ],
   "source": [
    "fruits=['apple','banana','cherry','mango']\n",
    "\n",
    "for i in fruits:\n",
    "    a=i.capitalize()\n",
    "    print(a)"
   ]
  },
  {
   "cell_type": "code",
   "execution_count": 36,
   "id": "c62d4fef",
   "metadata": {},
   "outputs": [
    {
     "data": {
      "text/plain": [
       "['Apple', 'Banana', 'Cherry', 'Mango']"
      ]
     },
     "execution_count": 36,
     "metadata": {},
     "output_type": "execute_result"
    }
   ],
   "source": [
    "[i.capitalize() for i in fruits]"
   ]
  },
  {
   "cell_type": "code",
   "execution_count": 37,
   "id": "3b7f45a1",
   "metadata": {},
   "outputs": [
    {
     "name": "stdout",
     "output_type": "stream",
     "text": [
      "1\n",
      "4\n",
      "9\n",
      "16\n",
      "25\n",
      "36\n",
      "49\n",
      "64\n",
      "81\n",
      "100\n"
     ]
    }
   ],
   "source": [
    "for i in range(1,11):\n",
    "    sq=i**2\n",
    "    print(sq)"
   ]
  },
  {
   "cell_type": "code",
   "execution_count": 38,
   "id": "b4f56435",
   "metadata": {},
   "outputs": [
    {
     "data": {
      "text/plain": [
       "[1, 4, 9, 16, 25, 36, 49, 64, 81, 100]"
      ]
     },
     "execution_count": 38,
     "metadata": {},
     "output_type": "execute_result"
    }
   ],
   "source": [
    "[i**2 for i in range(1,11)]"
   ]
  },
  {
   "cell_type": "code",
   "execution_count": 40,
   "id": "9a2d1167",
   "metadata": {},
   "outputs": [
    {
     "data": {
      "text/plain": [
       "[5, 10]"
      ]
     },
     "execution_count": 40,
     "metadata": {},
     "output_type": "execute_result"
    }
   ],
   "source": [
    "[i for i in range(1,11) if i%5==0 ]"
   ]
  },
  {
   "cell_type": "code",
   "execution_count": 42,
   "id": "4fff8866",
   "metadata": {},
   "outputs": [
    {
     "name": "stdout",
     "output_type": "stream",
     "text": [
      "['p', 'p', 'a', 'p']\n"
     ]
    }
   ],
   "source": [
    "names=['prashant','pooja','akash','pratik']\n",
    "l=[]\n",
    "\n",
    "for i in names:\n",
    "    l.append(i[0])\n",
    "print(l)"
   ]
  },
  {
   "cell_type": "code",
   "execution_count": 44,
   "id": "816b6547",
   "metadata": {},
   "outputs": [
    {
     "data": {
      "text/plain": [
       "['p', 'p', 'a', 'p']"
      ]
     },
     "execution_count": 44,
     "metadata": {},
     "output_type": "execute_result"
    }
   ],
   "source": [
    "l=[i[0] for i in names]\n",
    "l"
   ]
  },
  {
   "cell_type": "code",
   "execution_count": 55,
   "id": "0d31713c",
   "metadata": {},
   "outputs": [
    {
     "name": "stdout",
     "output_type": "stream",
     "text": [
      "30\n",
      "40\n"
     ]
    }
   ],
   "source": [
    "a=[10,20,30,40]\n",
    "b=[30,40,50,60]\n",
    "\n",
    "for i in a:\n",
    "    if i in b:\n",
    "        print(i)"
   ]
  },
  {
   "cell_type": "code",
   "execution_count": 61,
   "id": "e759f24c",
   "metadata": {},
   "outputs": [
    {
     "name": "stdout",
     "output_type": "stream",
     "text": [
      "[30, 40]\n"
     ]
    }
   ],
   "source": [
    "number=[i for i in a if i in b]\n",
    "print(number)"
   ]
  },
  {
   "cell_type": "code",
   "execution_count": 65,
   "id": "a3fb70c8",
   "metadata": {},
   "outputs": [
    {
     "name": "stdout",
     "output_type": "stream",
     "text": [
      "['Python', 'is', 'very', 'easy', 'programming', 'language']\n"
     ]
    }
   ],
   "source": [
    "s1=\"Python is very easy programming language\"\n",
    "s=s1.split()\n",
    "print(s)"
   ]
  },
  {
   "cell_type": "code",
   "execution_count": 81,
   "id": "84606743",
   "metadata": {},
   "outputs": [
    {
     "name": "stdout",
     "output_type": "stream",
     "text": [
      "[('PYTHON', 6), ('IS', 2), ('VERY', 4), ('EASY', 4), ('PROGRAMMING', 11), ('LANGUAGE', 8)]\n"
     ]
    }
   ],
   "source": [
    "l=[]\n",
    "for i in s:\n",
    "    l.append((i.upper(),len(i)))\n",
    "#    l.append(len(i))\n",
    "print(l)"
   ]
  },
  {
   "cell_type": "code",
   "execution_count": 75,
   "id": "986f28f0",
   "metadata": {},
   "outputs": [
    {
     "name": "stdout",
     "output_type": "stream",
     "text": [
      "[('PYTHON', 6), ('IS', 2), ('VERY', 4), ('EASY', 4), ('PROGRAMMING', 11), ('LANGUAGE', 8)]\n"
     ]
    }
   ],
   "source": [
    "l=[(i.upper(),len(i)) for i in s]\n",
    "print(l)"
   ]
  },
  {
   "cell_type": "code",
   "execution_count": 82,
   "id": "bf187703",
   "metadata": {},
   "outputs": [],
   "source": [
    "#write a program to display unique vovels presend in the given word"
   ]
  },
  {
   "cell_type": "code",
   "execution_count": 84,
   "id": "a713a9f5",
   "metadata": {},
   "outputs": [
    {
     "name": "stdout",
     "output_type": "stream",
     "text": [
      "{1, 2, 3, 4, 5, 6, 7, 8, 9, 10}\n",
      "<class 'set'>\n"
     ]
    }
   ],
   "source": [
    "x={i for i in range(1,11)}\n",
    "print(x)\n",
    "print(type(x))"
   ]
  },
  {
   "cell_type": "code",
   "execution_count": 87,
   "id": "ba90c783",
   "metadata": {},
   "outputs": [
    {
     "data": {
      "text/plain": [
       "{2, 4, 6, 8, 10}"
      ]
     },
     "execution_count": 87,
     "metadata": {},
     "output_type": "execute_result"
    }
   ],
   "source": [
    "{i for i in range(1,11) if i%2==0}"
   ]
  },
  {
   "cell_type": "code",
   "execution_count": 88,
   "id": "ced3068b",
   "metadata": {},
   "outputs": [
    {
     "name": "stdout",
     "output_type": "stream",
     "text": [
      "{1: 1, 2: 4, 3: 9, 4: 16, 5: 25, 6: 36, 7: 49, 8: 64, 9: 81, 10: 100}\n"
     ]
    }
   ],
   "source": [
    "sq={i:i**2 for i in range(1,11)}\n",
    "print(sq)"
   ]
  },
  {
   "cell_type": "code",
   "execution_count": 93,
   "id": "6e90dd97",
   "metadata": {},
   "outputs": [
    {
     "name": "stdout",
     "output_type": "stream",
     "text": [
      "{'b': 46, 'd': 44, 'e': 12}\n"
     ]
    }
   ],
   "source": [
    "d2={\"a\":37,\"b\":46,\"c\":67,\"d\":44,\"e\":12}\n",
    "\n",
    "even={}\n",
    "for k,v in d2.items():\n",
    "    if v%2==0:\n",
    "        even[k]=v\n",
    "print(even)"
   ]
  },
  {
   "cell_type": "code",
   "execution_count": 100,
   "id": "a0bf1b96",
   "metadata": {},
   "outputs": [
    {
     "name": "stdout",
     "output_type": "stream",
     "text": [
      "{'a': 87, 'b': 96, 'c': 117, 'd': 94, 'e': 62}\n"
     ]
    }
   ],
   "source": [
    "a={}\n",
    "for k,v in d2.items():\n",
    "    v1=v+50\n",
    "    a[k]=v1\n",
    "print(add)"
   ]
  },
  {
   "cell_type": "code",
   "execution_count": null,
   "id": "d05405b1",
   "metadata": {},
   "outputs": [],
   "source": []
  }
 ],
 "metadata": {
  "kernelspec": {
   "display_name": "Python 3",
   "language": "python",
   "name": "python3"
  },
  "language_info": {
   "codemirror_mode": {
    "name": "ipython",
    "version": 3
   },
   "file_extension": ".py",
   "mimetype": "text/x-python",
   "name": "python",
   "nbconvert_exporter": "python",
   "pygments_lexer": "ipython3",
   "version": "3.8.8"
  }
 },
 "nbformat": 4,
 "nbformat_minor": 5
}
