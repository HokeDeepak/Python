{
 "cells": [
  {
   "cell_type": "code",
   "execution_count": 1,
   "id": "dc5b7b88",
   "metadata": {},
   "outputs": [],
   "source": [
    "# types of inheritance \n",
    "\n",
    "# 1) Single = parent - child\n",
    "# 2) multi level = grand parent - parent - child\n",
    "# 3) multiple = father,mother - child\n",
    "# 4) Hierclical = parent - child1,child2,child3\n",
    "# 5) Hybrid = combination of above 2 method"
   ]
  },
  {
   "cell_type": "code",
   "execution_count": 2,
   "id": "bdfb0141",
   "metadata": {},
   "outputs": [],
   "source": [
    "# 1) Single Inheritance\n",
    "\n",
    "class vehicle:\n",
    "    def vehicle_info(self):\n",
    "        print(\"Inside Vehicle Class\")\n",
    "\n",
    "class car(vehicle):\n",
    "    def car_info(self):\n",
    "        print(\"Inside Car Class\")"
   ]
  },
  {
   "cell_type": "code",
   "execution_count": 10,
   "id": "51daaee0",
   "metadata": {},
   "outputs": [
    {
     "name": "stdout",
     "output_type": "stream",
     "text": [
      "Inside Car Class\n",
      "Inside Vehicle Class\n"
     ]
    }
   ],
   "source": [
    "c1=car()\n",
    "c1.car_info()\n",
    "c1.vehicle_info()"
   ]
  },
  {
   "cell_type": "code",
   "execution_count": 25,
   "id": "e7919e6f",
   "metadata": {},
   "outputs": [],
   "source": [
    "# 2) multi-level Inheritance\n",
    "\n",
    "class vehicle:\n",
    "    def vehicle_info(self):\n",
    "        print(\"Inside Vehicle Class\")\n",
    "\n",
    "class car(vehicle):\n",
    "    def car_info(self):\n",
    "        print(\"Inside Car Class\")\n",
    "        \n",
    "class sports_car(car):\n",
    "    def sports_car_info(self):\n",
    "        print(\"Inside sports Car Class\")"
   ]
  },
  {
   "cell_type": "code",
   "execution_count": 27,
   "id": "6af15eac",
   "metadata": {},
   "outputs": [
    {
     "name": "stdout",
     "output_type": "stream",
     "text": [
      "Inside sports Car Class\n",
      "Inside Car Class\n",
      "Inside Vehicle Class\n"
     ]
    }
   ],
   "source": [
    "a1=sports_car()\n",
    "a1.sports_car_info()\n",
    "a1.car_info()\n",
    "a1.vehicle_info()"
   ]
  },
  {
   "cell_type": "code",
   "execution_count": 19,
   "id": "38866c61",
   "metadata": {},
   "outputs": [],
   "source": [
    "# 3) multiple Inheritance\n",
    "\n",
    "class father:\n",
    "    def father_info(self):\n",
    "        print(\"father\")\n",
    "\n",
    "class mother:\n",
    "    def mother_info(self):\n",
    "        print(\"mother\")\n",
    "        \n",
    "class child(father,mother):\n",
    "    def child_info(self):\n",
    "        print(\"child\")"
   ]
  },
  {
   "cell_type": "code",
   "execution_count": 23,
   "id": "eb07d27e",
   "metadata": {},
   "outputs": [
    {
     "name": "stdout",
     "output_type": "stream",
     "text": [
      "child\n",
      "mother\n",
      "father\n"
     ]
    }
   ],
   "source": [
    "m1=child()\n",
    "m1.child_info()\n",
    "m1.mother_info()\n",
    "m1.father_info()"
   ]
  },
  {
   "cell_type": "code",
   "execution_count": 28,
   "id": "d1d4f6d9",
   "metadata": {},
   "outputs": [],
   "source": [
    "# 4) Hierclical inheritance\n",
    "\n",
    "class parent:\n",
    "    def parent_info(self):\n",
    "        print(\"Parent\")\n",
    "        \n",
    "class child1(parent):\n",
    "    def child1_info(self):\n",
    "        print(\"child1\")\n",
    "\n",
    "class child2(parent):\n",
    "    def child2_info(self):\n",
    "        print(\"child2\")\n",
    "        \n",
    "class child3(parent):\n",
    "    def child3_info(self):\n",
    "        print(\"child3\")"
   ]
  },
  {
   "cell_type": "code",
   "execution_count": 29,
   "id": "23406a84",
   "metadata": {},
   "outputs": [],
   "source": [
    "# 5) hybrid\n",
    "# -------------------\n",
    "#----------------\n",
    "#-----------\n",
    "#----\n",
    "#--\n",
    "#-\n",
    "#"
   ]
  },
  {
   "cell_type": "code",
   "execution_count": null,
   "id": "ce3982d0",
   "metadata": {},
   "outputs": [],
   "source": []
  }
 ],
 "metadata": {
  "kernelspec": {
   "display_name": "Python 3",
   "language": "python",
   "name": "python3"
  },
  "language_info": {
   "codemirror_mode": {
    "name": "ipython",
    "version": 3
   },
   "file_extension": ".py",
   "mimetype": "text/x-python",
   "name": "python",
   "nbconvert_exporter": "python",
   "pygments_lexer": "ipython3",
   "version": "3.8.8"
  }
 },
 "nbformat": 4,
 "nbformat_minor": 5
}
