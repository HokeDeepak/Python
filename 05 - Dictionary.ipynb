{
 "cells": [
  {
   "cell_type": "code",
   "execution_count": 2,
   "id": "0423cca6",
   "metadata": {},
   "outputs": [
    {
     "data": {
      "text/plain": [
       "dict"
      ]
     },
     "execution_count": 2,
     "metadata": {},
     "output_type": "execute_result"
    }
   ],
   "source": [
    "#Empty dictionary\n",
    "\n",
    "d={}\n",
    "type(d)"
   ]
  },
  {
   "cell_type": "code",
   "execution_count": 3,
   "id": "9d92c51d",
   "metadata": {},
   "outputs": [
    {
     "data": {
      "text/plain": [
       "dict"
      ]
     },
     "execution_count": 3,
     "metadata": {},
     "output_type": "execute_result"
    }
   ],
   "source": [
    "d1=dict()\n",
    "d1\n",
    "type(d1)"
   ]
  },
  {
   "cell_type": "code",
   "execution_count": 5,
   "id": "7b59c8df",
   "metadata": {},
   "outputs": [
    {
     "data": {
      "text/plain": [
       "{'name': 'akash', 'age': 23, 'salary': 25000}"
      ]
     },
     "execution_count": 5,
     "metadata": {},
     "output_type": "execute_result"
    }
   ],
   "source": [
    "d2={\"name\":\"akash\",\"age\":23,\"salary\":25000}\n",
    "d2"
   ]
  },
  {
   "cell_type": "code",
   "execution_count": 18,
   "id": "77b98c6f",
   "metadata": {},
   "outputs": [
    {
     "data": {
      "text/plain": [
       "['age']"
      ]
     },
     "execution_count": 18,
     "metadata": {},
     "output_type": "execute_result"
    }
   ],
   "source": [
    "#How to access elements of dictionary\n",
    "\n",
    "d2=[\"age\"]\n",
    "d2"
   ]
  },
  {
   "cell_type": "code",
   "execution_count": 20,
   "id": "809d50f8",
   "metadata": {},
   "outputs": [
    {
     "data": {
      "text/plain": [
       "{'name': 'akash', 'age': 23, 'salary': 25000}"
      ]
     },
     "execution_count": 20,
     "metadata": {},
     "output_type": "execute_result"
    }
   ],
   "source": [
    "#How to update dictionaries ?\n",
    "\n",
    "d3={\"name\":\"akash\",\"age\":23,\"salary\":25000}\n",
    "d3"
   ]
  },
  {
   "cell_type": "code",
   "execution_count": 21,
   "id": "9c836a59",
   "metadata": {},
   "outputs": [
    {
     "data": {
      "text/plain": [
       "{'name': 'pooja', 'age': 23, 'salary': 25000}"
      ]
     },
     "execution_count": 21,
     "metadata": {},
     "output_type": "execute_result"
    }
   ],
   "source": [
    "d3[\"name\"]=\"pooja\"\n",
    "d3"
   ]
  },
  {
   "cell_type": "code",
   "execution_count": 23,
   "id": "8cfe9db8",
   "metadata": {},
   "outputs": [
    {
     "data": {
      "text/plain": [
       "{'name': 'pooja', 'age': 23, 'salary': 30000}"
      ]
     },
     "execution_count": 23,
     "metadata": {},
     "output_type": "execute_result"
    }
   ],
   "source": [
    "d3[\"salary\"]=30000\n",
    "d3"
   ]
  },
  {
   "cell_type": "code",
   "execution_count": 25,
   "id": "94801997",
   "metadata": {},
   "outputs": [
    {
     "data": {
      "text/plain": [
       "{'name': 'pooja',\n",
       " 'age': 23,\n",
       " 'salary': 30000,\n",
       " 'address': 'pune',\n",
       " 'No': 7900112145}"
      ]
     },
     "execution_count": 25,
     "metadata": {},
     "output_type": "execute_result"
    }
   ],
   "source": [
    "#add address and no \n",
    "\n",
    "# Method 1\n",
    "\n",
    "d3['address']=\"pune\"\n",
    "d3['No']=7900112145\n",
    "d3"
   ]
  },
  {
   "cell_type": "code",
   "execution_count": 26,
   "id": "307325fd",
   "metadata": {},
   "outputs": [
    {
     "data": {
      "text/plain": [
       "{'name': 'pooja',\n",
       " 'age': 23,\n",
       " 'salary': 30000,\n",
       " 'address': 'pune',\n",
       " 'No': 7900112145,\n",
       " 'no': 1234567890,\n",
       " 'colour': 'red'}"
      ]
     },
     "execution_count": 26,
     "metadata": {},
     "output_type": "execute_result"
    }
   ],
   "source": [
    "#Method 2\n",
    "\n",
    "d3.update({'no':1234567890,'colour':'red'})\n",
    "d3"
   ]
  },
  {
   "cell_type": "code",
   "execution_count": 3,
   "id": "df5987ea",
   "metadata": {},
   "outputs": [
    {
     "data": {
      "text/plain": [
       "{'name': 'Deepak',\n",
       " 'age': 21,\n",
       " 'salary': 30000,\n",
       " 'no': 7900112145,\n",
       " 'fav colour': 'bl'}"
      ]
     },
     "execution_count": 3,
     "metadata": {},
     "output_type": "execute_result"
    }
   ],
   "source": [
    "d4={\"name\":\"Deepak\",\"age\":21,\"salary\":30000,'no':7900112145,'fav colour':'bl'}\n",
    "d4"
   ]
  },
  {
   "cell_type": "code",
   "execution_count": 4,
   "id": "a04ef1e9",
   "metadata": {},
   "outputs": [
    {
     "data": {
      "text/plain": [
       "'Deepak'"
      ]
     },
     "execution_count": 4,
     "metadata": {},
     "output_type": "execute_result"
    }
   ],
   "source": [
    "#delete elements fron dictionary\n",
    "d4.pop('name')"
   ]
  },
  {
   "cell_type": "code",
   "execution_count": 6,
   "id": "19d59045",
   "metadata": {},
   "outputs": [
    {
     "data": {
      "text/plain": [
       "{'age': 21, 'salary': 30000, 'no': 7900112145, 'fav colour': 'bl'}"
      ]
     },
     "execution_count": 6,
     "metadata": {},
     "output_type": "execute_result"
    }
   ],
   "source": [
    "d4"
   ]
  },
  {
   "cell_type": "code",
   "execution_count": 7,
   "id": "a0090e60",
   "metadata": {},
   "outputs": [
    {
     "data": {
      "text/plain": [
       "('fav colour', 'bl')"
      ]
     },
     "execution_count": 7,
     "metadata": {},
     "output_type": "execute_result"
    }
   ],
   "source": [
    "d4.popitem()"
   ]
  },
  {
   "cell_type": "code",
   "execution_count": 8,
   "id": "e139759a",
   "metadata": {},
   "outputs": [
    {
     "data": {
      "text/plain": [
       "dict_keys(['age', 'salary', 'no'])"
      ]
     },
     "execution_count": 8,
     "metadata": {},
     "output_type": "execute_result"
    }
   ],
   "source": [
    "d4.keys()"
   ]
  },
  {
   "cell_type": "code",
   "execution_count": 10,
   "id": "23e6d689",
   "metadata": {},
   "outputs": [
    {
     "data": {
      "text/plain": [
       "dict_values([21, 30000, 7900112145])"
      ]
     },
     "execution_count": 10,
     "metadata": {},
     "output_type": "execute_result"
    }
   ],
   "source": [
    "d4.values()"
   ]
  },
  {
   "cell_type": "code",
   "execution_count": 11,
   "id": "b2b52850",
   "metadata": {},
   "outputs": [
    {
     "data": {
      "text/plain": [
       "dict_items([('age', 21), ('salary', 30000), ('no', 7900112145)])"
      ]
     },
     "execution_count": 11,
     "metadata": {},
     "output_type": "execute_result"
    }
   ],
   "source": [
    "d4.items()"
   ]
  },
  {
   "cell_type": "code",
   "execution_count": 25,
   "id": "e217ab69",
   "metadata": {},
   "outputs": [
    {
     "data": {
      "text/plain": [
       "2008"
      ]
     },
     "execution_count": 25,
     "metadata": {},
     "output_type": "execute_result"
    }
   ],
   "source": [
    "data ={'Teams':['MI','RR','CSK','RCB'], 'wins' : [2008,2011,2015,2016]}\n",
    "\n",
    "data['wins'][0]"
   ]
  },
  {
   "cell_type": "code",
   "execution_count": null,
   "id": "60d55cbc",
   "metadata": {},
   "outputs": [],
   "source": []
  }
 ],
 "metadata": {
  "kernelspec": {
   "display_name": "Python 3",
   "language": "python",
   "name": "python3"
  },
  "language_info": {
   "codemirror_mode": {
    "name": "ipython",
    "version": 3
   },
   "file_extension": ".py",
   "mimetype": "text/x-python",
   "name": "python",
   "nbconvert_exporter": "python",
   "pygments_lexer": "ipython3",
   "version": "3.8.8"
  }
 },
 "nbformat": 4,
 "nbformat_minor": 5
}
