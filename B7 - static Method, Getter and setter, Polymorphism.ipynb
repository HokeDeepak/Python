{
 "cells": [
  {
   "cell_type": "code",
   "execution_count": 1,
   "id": "f988ca24",
   "metadata": {},
   "outputs": [],
   "source": [
    "# static method"
   ]
  },
  {
   "cell_type": "code",
   "execution_count": 3,
   "id": "132835e0",
   "metadata": {},
   "outputs": [],
   "source": [
    "class student:\n",
    "    name=\"deepak\"\n",
    "    @staticmethod\n",
    "    def display(x):\n",
    "        print(\"inside static method\",x)\n",
    "        "
   ]
  },
  {
   "cell_type": "code",
   "execution_count": 4,
   "id": "b975bbfe",
   "metadata": {},
   "outputs": [
    {
     "name": "stdout",
     "output_type": "stream",
     "text": [
      "inside static method 20\n"
     ]
    }
   ],
   "source": [
    "# using class\n",
    "student.display(20)"
   ]
  },
  {
   "cell_type": "code",
   "execution_count": 5,
   "id": "1ce3049b",
   "metadata": {},
   "outputs": [
    {
     "name": "stdout",
     "output_type": "stream",
     "text": [
      "inside static method 50\n"
     ]
    }
   ],
   "source": [
    "# using object\n",
    "s1=student\n",
    "s1.display(50)"
   ]
  },
  {
   "cell_type": "code",
   "execution_count": 6,
   "id": "97293170",
   "metadata": {},
   "outputs": [],
   "source": [
    "# Getters and Setters"
   ]
  },
  {
   "cell_type": "code",
   "execution_count": 1,
   "id": "7f89ed21",
   "metadata": {},
   "outputs": [],
   "source": [
    "class employee:\n",
    "    \n",
    "    def setname(self,name):\n",
    "        self.name=name\n",
    "        \n",
    "    def getname(self):\n",
    "        return self.name\n",
    "    \n",
    "    def setsalary(self,salary):\n",
    "        self.salary=salary\n",
    "        \n",
    "    def getsalary(self):\n",
    "        return self.salary"
   ]
  },
  {
   "cell_type": "code",
   "execution_count": null,
   "id": "f3ce7673",
   "metadata": {},
   "outputs": [],
   "source": [
    "n=int(input(\"enter no of employee\",))\n",
    "\n",
    "for i in range (1,n+1):\n",
    "    e=employee()\n",
    "    name=input(\"enter name\")\n",
    "    e.setname(name)\n",
    "    salary=int(input(\"enter salary\"))\n",
    "    e.setsalary(salary)\n",
    "    \n",
    "    print(\"-------------\")\n",
    "    print(\"welcome\",e.getname())\n",
    "    print(\"salary is\",e.getsalary())"
   ]
  },
  {
   "cell_type": "code",
   "execution_count": null,
   "id": "476baa2e",
   "metadata": {},
   "outputs": [],
   "source": [
    "class bank:\n",
    "    "
   ]
  }
 ],
 "metadata": {
  "kernelspec": {
   "display_name": "Python 3",
   "language": "python",
   "name": "python3"
  },
  "language_info": {
   "codemirror_mode": {
    "name": "ipython",
    "version": 3
   },
   "file_extension": ".py",
   "mimetype": "text/x-python",
   "name": "python",
   "nbconvert_exporter": "python",
   "pygments_lexer": "ipython3",
   "version": "3.8.8"
  }
 },
 "nbformat": 4,
 "nbformat_minor": 5
}
