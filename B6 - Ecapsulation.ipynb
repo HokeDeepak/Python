{
 "cells": [
  {
   "cell_type": "code",
   "execution_count": 1,
   "id": "ceb290cb",
   "metadata": {},
   "outputs": [],
   "source": [
    "# 1) Data hiding using access modifiers: public, private, protected"
   ]
  },
  {
   "cell_type": "code",
   "execution_count": 2,
   "id": "a5999874",
   "metadata": {},
   "outputs": [],
   "source": [
    "class emp:\n",
    "    def __init__(self,name,project,salary):\n",
    "        self.name=name\n",
    "        self._project=project\n",
    "        self.__salary=salary\n",
    "        \n",
    "    def emp_details(self):\n",
    "        print(\"name of employee:-\",self.name)\n",
    "        print(\"project of employee:-\",self._project)\n",
    "        print(\"salary of employee:-\",self.__salary)"
   ]
  },
  {
   "cell_type": "code",
   "execution_count": 3,
   "id": "5f1a83f9",
   "metadata": {},
   "outputs": [],
   "source": [
    "e=emp(\"deepak\",\"it\",20000)"
   ]
  },
  {
   "cell_type": "code",
   "execution_count": 4,
   "id": "51170a6a",
   "metadata": {},
   "outputs": [
    {
     "data": {
      "text/plain": [
       "20000"
      ]
     },
     "execution_count": 4,
     "metadata": {},
     "output_type": "execute_result"
    }
   ],
   "source": [
    "e._emp__salary # private variable outside class"
   ]
  },
  {
   "cell_type": "code",
   "execution_count": 5,
   "id": "6e751ee5",
   "metadata": {},
   "outputs": [
    {
     "ename": "AttributeError",
     "evalue": "'emp' object has no attribute '__salary'",
     "output_type": "error",
     "traceback": [
      "\u001b[1;31m---------------------------------------------------------------------------\u001b[0m",
      "\u001b[1;31mAttributeError\u001b[0m                            Traceback (most recent call last)",
      "\u001b[1;32m<ipython-input-5-bd5077676c31>\u001b[0m in \u001b[0;36m<module>\u001b[1;34m\u001b[0m\n\u001b[1;32m----> 1\u001b[1;33m \u001b[0me\u001b[0m\u001b[1;33m.\u001b[0m\u001b[0m__salary\u001b[0m\u001b[1;33m\u001b[0m\u001b[1;33m\u001b[0m\u001b[0m\n\u001b[0m",
      "\u001b[1;31mAttributeError\u001b[0m: 'emp' object has no attribute '__salary'"
     ]
    }
   ],
   "source": [
    "e.__salary"
   ]
  },
  {
   "cell_type": "code",
   "execution_count": 6,
   "id": "054faa36",
   "metadata": {},
   "outputs": [
    {
     "data": {
      "text/plain": [
       "'it'"
      ]
     },
     "execution_count": 6,
     "metadata": {},
     "output_type": "execute_result"
    }
   ],
   "source": [
    "e._project # private variable"
   ]
  },
  {
   "cell_type": "code",
   "execution_count": 7,
   "id": "4dc134a6",
   "metadata": {},
   "outputs": [
    {
     "data": {
      "text/plain": [
       "'deepak'"
      ]
     },
     "execution_count": 7,
     "metadata": {},
     "output_type": "execute_result"
    }
   ],
   "source": [
    "e.name # public variable"
   ]
  },
  {
   "cell_type": "code",
   "execution_count": 8,
   "id": "dad1939f",
   "metadata": {},
   "outputs": [],
   "source": [
    "# protected variable\n",
    "\n",
    "class company:\n",
    "    def __init__(self):\n",
    "        #protected variable\n",
    "        self._project=\"NLP\"\n",
    "        \n",
    "class emp(company):\n",
    "    def __init__(self,name):\n",
    "        self.name=name\n",
    "        company.__init__(self)\n",
    "        \n",
    "    def show(self):\n",
    "        print(self.name)\n",
    "        # access protected variable in child class or sub class\n",
    "        print(self._project)"
   ]
  },
  {
   "cell_type": "code",
   "execution_count": 9,
   "id": "7279c448",
   "metadata": {},
   "outputs": [],
   "source": [
    "e1=emp(\"deepak\")"
   ]
  },
  {
   "cell_type": "code",
   "execution_count": 10,
   "id": "dfa08d40",
   "metadata": {},
   "outputs": [
    {
     "name": "stdout",
     "output_type": "stream",
     "text": [
      "deepak\n",
      "NLP\n"
     ]
    }
   ],
   "source": [
    "e1.show()"
   ]
  },
  {
   "cell_type": "code",
   "execution_count": null,
   "id": "57d1afc0",
   "metadata": {},
   "outputs": [],
   "source": []
  }
 ],
 "metadata": {
  "kernelspec": {
   "display_name": "Python 3",
   "language": "python",
   "name": "python3"
  },
  "language_info": {
   "codemirror_mode": {
    "name": "ipython",
    "version": 3
   },
   "file_extension": ".py",
   "mimetype": "text/x-python",
   "name": "python",
   "nbconvert_exporter": "python",
   "pygments_lexer": "ipython3",
   "version": "3.8.8"
  }
 },
 "nbformat": 4,
 "nbformat_minor": 5
}
