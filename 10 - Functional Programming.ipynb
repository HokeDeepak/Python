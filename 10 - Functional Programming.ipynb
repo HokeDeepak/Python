{
 "cells": [
  {
   "cell_type": "code",
   "execution_count": 1,
   "id": "7a6bc3f3",
   "metadata": {},
   "outputs": [],
   "source": [
    "# function programming\n",
    "\n",
    "# what is function - reusability \n",
    "# to create function we use \"def function_name\"\n",
    "\n",
    "\n",
    "#    e.g.\n",
    "\n",
    "#\n",
    "#      a=5\n",
    "#      b=5\n",
    "#     c=a+b\n",
    "#    print(c)\n",
    "\n",
    "#        syntax:\n",
    "\n",
    "#            def function_name(argument1,....):\n",
    "#                ....\n",
    "#                ....\n",
    "#                return value "
   ]
  },
  {
   "cell_type": "code",
   "execution_count": 2,
   "id": "0e2c8adf",
   "metadata": {},
   "outputs": [],
   "source": [
    "#      Types\n",
    "\n",
    "\n",
    "# 1) fun with parameter with return type\n",
    "# 2) fun with parameter without \"\"\n",
    "# 3) fun without \"\" with return type\n",
    "# 4) fun without \"\" without return type\n",
    "\n",
    "\n",
    "\n",
    "\n",
    "\n",
    "\n",
    "# parameters: are the inpu to the functions. if fumction contains parameter\n",
    "# then at the time of calling, compulsary we should provide the values otherwise we will get an error"
   ]
  },
  {
   "cell_type": "code",
   "execution_count": 3,
   "id": "823b332b",
   "metadata": {},
   "outputs": [
    {
     "ename": "SyntaxError",
     "evalue": "unexpected EOF while parsing (<ipython-input-3-6df933fee577>, line 2)",
     "output_type": "error",
     "traceback": [
      "\u001b[1;36m  File \u001b[1;32m\"<ipython-input-3-6df933fee577>\"\u001b[1;36m, line \u001b[1;32m2\u001b[0m\n\u001b[1;33m    \u001b[0m\n\u001b[1;37m    ^\u001b[0m\n\u001b[1;31mSyntaxError\u001b[0m\u001b[1;31m:\u001b[0m unexpected EOF while parsing\n"
     ]
    }
   ],
   "source": [
    "def wish(name):\n",
    "    "
   ]
  },
  {
   "cell_type": "code",
   "execution_count": null,
   "id": "3a1332ce",
   "metadata": {},
   "outputs": [],
   "source": [
    "# fun without \"\" with return type\n",
    "\n",
    "#e.g.1\n",
    "def add(a,b):\n",
    "    \n",
    "    c=a+b\n",
    "    return c"
   ]
  },
  {
   "cell_type": "code",
   "execution_count": null,
   "id": "2b1f9cc7",
   "metadata": {},
   "outputs": [],
   "source": [
    "addition=add(25,25)\n",
    "print(addition)"
   ]
  },
  {
   "cell_type": "code",
   "execution_count": null,
   "id": "dcffdc93",
   "metadata": {},
   "outputs": [],
   "source": [
    "#e.g.2\n",
    "\n",
    "def add1(a,b):\n",
    "    c=a+b\n",
    "    print(c)"
   ]
  },
  {
   "cell_type": "code",
   "execution_count": null,
   "id": "031d140f",
   "metadata": {},
   "outputs": [],
   "source": [
    "add1(12,12)"
   ]
  },
  {
   "cell_type": "code",
   "execution_count": null,
   "id": "77bf5233",
   "metadata": {},
   "outputs": [],
   "source": [
    "# fun without \"\" with return type\n",
    "\n",
    "# e.g. 1\n",
    "\n",
    "def add2():\n",
    "    a=int(input())\n",
    "    b=int(input())\n",
    "    c=a+b\n",
    "    return c"
   ]
  },
  {
   "cell_type": "code",
   "execution_count": null,
   "id": "58640992",
   "metadata": {},
   "outputs": [],
   "source": [
    "sum=add2()\n",
    "print(sum)"
   ]
  },
  {
   "cell_type": "code",
   "execution_count": null,
   "id": "01609715",
   "metadata": {},
   "outputs": [],
   "source": [
    "# fun without \"\" without return type\n",
    "\n",
    "def add3():\n",
    "    a=int(input())\n",
    "    b=int(input())\n",
    "    b"
   ]
  },
  {
   "cell_type": "code",
   "execution_count": null,
   "id": "0daa74f8",
   "metadata": {},
   "outputs": [],
   "source": [
    "# return statements:\n",
    "\n",
    "# functions can take paramener as input and executes business logic and it returns output to the caller statement by using return statement."
   ]
  },
  {
   "cell_type": "code",
   "execution_count": null,
   "id": "2b28fc75",
   "metadata": {},
   "outputs": [],
   "source": [
    "# square of no by using function\n",
    "\n",
    "def number(a):\n",
    "    return a*a\n",
    "print(number(5))"
   ]
  },
  {
   "cell_type": "code",
   "execution_count": null,
   "id": "16bd0a99",
   "metadata": {},
   "outputs": [],
   "source": [
    "# Types of arguments\n",
    "\n",
    "\n",
    "# 1. positional arguments\n",
    "\n",
    "def stud(name,marks,address):\n",
    "    print(\"student info\")\n",
    "    print(\"name of student is:- \",name)\n",
    "    print(\"marks is student is:- \",marks)\n",
    "    print(\"address of student is:- \",address)"
   ]
  },
  {
   "cell_type": "code",
   "execution_count": null,
   "id": "17ce5fd2",
   "metadata": {},
   "outputs": [],
   "source": [
    "stud(\"Deepak\",90,\"Vashi\")"
   ]
  },
  {
   "cell_type": "code",
   "execution_count": null,
   "id": "58d395bb",
   "metadata": {},
   "outputs": [],
   "source": [
    "# 2. keyword arguments\n",
    "\n",
    "def emp(name,sal,designation):\n",
    "    print(\"name - \",name)\n",
    "    print(\"Salary - \",sal)\n",
    "    print(\"Designation - \",designation)"
   ]
  },
  {
   "cell_type": "code",
   "execution_count": null,
   "id": "03972647",
   "metadata": {},
   "outputs": [],
   "source": [
    "emp(sal=100000,name=\"Deepak\",designation=\"Manager\")"
   ]
  },
  {
   "cell_type": "code",
   "execution_count": null,
   "id": "d1041219",
   "metadata": {},
   "outputs": [],
   "source": [
    "# 3. default arguments\n",
    "\n",
    "\n",
    "def wish(name=\"guest\"):\n",
    "    print(\"Happy Birthdyy\", name)"
   ]
  },
  {
   "cell_type": "code",
   "execution_count": null,
   "id": "ced99a11",
   "metadata": {},
   "outputs": [],
   "source": [
    "wish(\"Deepak\")"
   ]
  },
  {
   "cell_type": "code",
   "execution_count": null,
   "id": "b5846c26",
   "metadata": {},
   "outputs": [],
   "source": [
    "# 4. variable length argument\n",
    "#* - for variable length (not defined)\n",
    "\n",
    "def sum(*n):\n",
    "    total=0\n",
    "    for i in n:\n",
    "        total=total+i\n",
    "    print(\"sum is:- \",total)"
   ]
  },
  {
   "cell_type": "code",
   "execution_count": null,
   "id": "82105759",
   "metadata": {},
   "outputs": [],
   "source": [
    "sum(10,12,23)"
   ]
  },
  {
   "cell_type": "code",
   "execution_count": null,
   "id": "bc9417f1",
   "metadata": {},
   "outputs": [],
   "source": []
  },
  {
   "cell_type": "code",
   "execution_count": null,
   "id": "c2f1b350",
   "metadata": {},
   "outputs": [],
   "source": [
    "#Kwargs - keyword aswellas values\n",
    "\n",
    "def display(**kwargs):\n",
    "    for k,v in kwargs.items():\n",
    "        print(k,\"=\",v)"
   ]
  },
  {
   "cell_type": "code",
   "execution_count": null,
   "id": "95086cec",
   "metadata": {},
   "outputs": [],
   "source": [
    "display(Name=\"Deepak\",Age=22)"
   ]
  },
  {
   "cell_type": "code",
   "execution_count": null,
   "id": "22a8a656",
   "metadata": {},
   "outputs": [],
   "source": [
    "def factorial(x):\n",
    "    if x == 1:\n",
    "        return 1\n",
    "    else:\n",
    "        return (x * factorial(x-1))\n",
    "\n",
    "num = int(input(\"enter number\",))\n",
    "result = factorial(num)\n",
    "print(\"The factorial of\", num, \"is\", result)\n"
   ]
  },
  {
   "cell_type": "code",
   "execution_count": 12,
   "id": "fd79d0f8",
   "metadata": {},
   "outputs": [],
   "source": [
    "# factorial \n",
    "\n",
    "def fact(n):\n",
    "    f=1\n",
    "    for i in range(1,n+1):\n",
    "        f=f*i\n",
    "    return f"
   ]
  },
  {
   "cell_type": "code",
   "execution_count": 13,
   "id": "828388ff",
   "metadata": {},
   "outputs": [
    {
     "name": "stdout",
     "output_type": "stream",
     "text": [
      "enter number5\n",
      "factorial of number:-  120\n"
     ]
    }
   ],
   "source": [
    "num=int(input(\"enter number\"))\n",
    "factoral=fact(num)\n",
    "print(\"factorial of number:- \",factoral)"
   ]
  },
  {
   "cell_type": "code",
   "execution_count": 14,
   "id": "d7158ea6",
   "metadata": {},
   "outputs": [],
   "source": [
    "# fibonacci series\n",
    "\n"
   ]
  },
  {
   "cell_type": "code",
   "execution_count": 27,
   "id": "4c06cf5a",
   "metadata": {},
   "outputs": [],
   "source": [
    "##types\n",
    "# Global variable - outside\n",
    "# local variable - inside\n",
    "\n",
    "a=10 #global var\n",
    "def f1():\n",
    "    xyz='python' # local var\n",
    "    print(a)\n",
    "    print(xyz)"
   ]
  },
  {
   "cell_type": "code",
   "execution_count": 28,
   "id": "04030236",
   "metadata": {},
   "outputs": [
    {
     "name": "stdout",
     "output_type": "stream",
     "text": [
      "10\n",
      "python\n"
     ]
    }
   ],
   "source": [
    "f1()"
   ]
  },
  {
   "cell_type": "code",
   "execution_count": 24,
   "id": "bfa35b51",
   "metadata": {},
   "outputs": [],
   "source": [
    "def f2():\n",
    "    b=\"java\" # local\n",
    "    print(a)\n",
    "    print(b)\n",
    "    print(xyz)"
   ]
  },
  {
   "cell_type": "code",
   "execution_count": 25,
   "id": "8024dfd9",
   "metadata": {},
   "outputs": [
    {
     "name": "stdout",
     "output_type": "stream",
     "text": [
      "10\n",
      "java\n"
     ]
    },
    {
     "ename": "NameError",
     "evalue": "name 'xyz' is not defined",
     "output_type": "error",
     "traceback": [
      "\u001b[1;31m---------------------------------------------------------------------------\u001b[0m",
      "\u001b[1;31mNameError\u001b[0m                                 Traceback (most recent call last)",
      "\u001b[1;32m<ipython-input-25-55649989190d>\u001b[0m in \u001b[0;36m<module>\u001b[1;34m\u001b[0m\n\u001b[1;32m----> 1\u001b[1;33m \u001b[0mf2\u001b[0m\u001b[1;33m(\u001b[0m\u001b[1;33m)\u001b[0m\u001b[1;33m\u001b[0m\u001b[1;33m\u001b[0m\u001b[0m\n\u001b[0m",
      "\u001b[1;32m<ipython-input-24-9efe224cad2b>\u001b[0m in \u001b[0;36mf2\u001b[1;34m()\u001b[0m\n\u001b[0;32m      3\u001b[0m     \u001b[0mprint\u001b[0m\u001b[1;33m(\u001b[0m\u001b[0ma\u001b[0m\u001b[1;33m)\u001b[0m\u001b[1;33m\u001b[0m\u001b[1;33m\u001b[0m\u001b[0m\n\u001b[0;32m      4\u001b[0m     \u001b[0mprint\u001b[0m\u001b[1;33m(\u001b[0m\u001b[0mb\u001b[0m\u001b[1;33m)\u001b[0m\u001b[1;33m\u001b[0m\u001b[1;33m\u001b[0m\u001b[0m\n\u001b[1;32m----> 5\u001b[1;33m     \u001b[0mprint\u001b[0m\u001b[1;33m(\u001b[0m\u001b[0mxyz\u001b[0m\u001b[1;33m)\u001b[0m\u001b[1;33m\u001b[0m\u001b[1;33m\u001b[0m\u001b[0m\n\u001b[0m",
      "\u001b[1;31mNameError\u001b[0m: name 'xyz' is not defined"
     ]
    }
   ],
   "source": [
    "f2()"
   ]
  },
  {
   "cell_type": "code",
   "execution_count": 29,
   "id": "cc9294a5",
   "metadata": {},
   "outputs": [],
   "source": [
    "# global keyword:\n",
    "\n",
    "a=10\n",
    "\n",
    "def s1():\n",
    "    a=777\n",
    "    print(a)\n",
    "    \n",
    "def s2():\n",
    "    print(a)"
   ]
  },
  {
   "cell_type": "code",
   "execution_count": 30,
   "id": "dd5c4a80",
   "metadata": {},
   "outputs": [
    {
     "name": "stdout",
     "output_type": "stream",
     "text": [
      "777\n",
      "10\n"
     ]
    }
   ],
   "source": [
    "s1()\n",
    "s2()"
   ]
  },
  {
   "cell_type": "code",
   "execution_count": 34,
   "id": "35bcf09b",
   "metadata": {},
   "outputs": [],
   "source": [
    "a=999\n",
    "\n",
    "def f1():\n",
    "    global a #global - to modify global value\n",
    "    a=777\n",
    "    print(a)\n",
    "\n",
    "def f2():\n",
    "    print(a)"
   ]
  },
  {
   "cell_type": "code",
   "execution_count": 35,
   "id": "913541b9",
   "metadata": {},
   "outputs": [
    {
     "name": "stdout",
     "output_type": "stream",
     "text": [
      "777\n",
      "777\n"
     ]
    }
   ],
   "source": [
    "f1()\n",
    "f2()"
   ]
  },
  {
   "cell_type": "code",
   "execution_count": null,
   "id": "53a107b0",
   "metadata": {},
   "outputs": [],
   "source": [
    "# reverse a string\n",
    "\n",
    "def "
   ]
  }
 ],
 "metadata": {
  "kernelspec": {
   "display_name": "Python 3",
   "language": "python",
   "name": "python3"
  },
  "language_info": {
   "codemirror_mode": {
    "name": "ipython",
    "version": 3
   },
   "file_extension": ".py",
   "mimetype": "text/x-python",
   "name": "python",
   "nbconvert_exporter": "python",
   "pygments_lexer": "ipython3",
   "version": "3.8.8"
  }
 },
 "nbformat": 4,
 "nbformat_minor": 5
}
