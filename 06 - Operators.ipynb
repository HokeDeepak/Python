{
 "cells": [
  {
   "cell_type": "code",
   "execution_count": 10,
   "id": "1cb14793",
   "metadata": {},
   "outputs": [
    {
     "name": "stdout",
     "output_type": "stream",
     "text": [
      "enter 1st number - 10\n",
      "enter 2nd number - 4\n",
      "Addition - 14\n",
      "substraction - 6\n",
      "multiplication - 40\n",
      "division - 2.5\n",
      "floor division - 2\n",
      "remainder - 2\n",
      "power - 10000\n"
     ]
    }
   ],
   "source": [
    "#Arithmatic Operators\n",
    "\n",
    "num1=int(input(\"enter 1st number - \"))\n",
    "num2=int(input(\"enter 2nd number - \"))\n",
    "\n",
    "print(\"Addition -\",num1+num2)\n",
    "\n",
    "print(\"substraction -\",num1-num2)\n",
    "\n",
    "print(\"multiplication -\",num1*num2)\n",
    "\n",
    "print(\"division -\",num1/num2)\n",
    "\n",
    "print(\"floor division -\",num1//num2)\n",
    "\n",
    "print(\"remainder -\",num1%num2)\n",
    "\n",
    "print(\"power -\",num1**num2)"
   ]
  },
  {
   "cell_type": "code",
   "execution_count": 12,
   "id": "28bca21f",
   "metadata": {},
   "outputs": [
    {
     "name": "stdout",
     "output_type": "stream",
     "text": [
      "enter 1st number - 15\n",
      "enter 2nd number - 10\n",
      "num1>num2 - True\n",
      "num1<num2 - False\n",
      "num1>=num2 - True\n",
      "num1<=num2 - False\n",
      "num1==num2 - False\n",
      "num1!=num2 - True\n"
     ]
    }
   ],
   "source": [
    "#comparison operator or relational operators\n",
    "\n",
    "num1=int(input(\"enter 1st number - \"))\n",
    "num2=int(input(\"enter 2nd number - \"))\n",
    "\n",
    "print(\"num1>num2 -\",num1>num2)\n",
    "print(\"num1<num2 -\",num1<num2)\n",
    "print(\"num1>=num2 -\",num1>=num2)\n",
    "print(\"num1<=num2 -\",num1<=num2)\n",
    "print(\"num1==num2 -\",num1==num2)\n",
    "print(\"num1!=num2 -\",num1!=num2)"
   ]
  },
  {
   "cell_type": "code",
   "execution_count": 6,
   "id": "6fa1c7d8",
   "metadata": {},
   "outputs": [
    {
     "name": "stdout",
     "output_type": "stream",
     "text": [
      "enter 1st stringpython\n",
      "enter 2nd stringprogramming\n",
      "num1>num2 - True\n",
      "num1<num2 - False\n",
      "num1>=num2 - True\n",
      "num1<=num2 - False\n",
      "num1==num2 - False\n",
      "num1!=num2 - True\n"
     ]
    }
   ],
   "source": [
    "num1=input(\"enter 1st string - \")\n",
    "num2=input(\"enter 2nd string - \")\n",
    "\n",
    "print(\"num1>num2 -\",num1>num2)\n",
    "print(\"num1<num2 -\",num1<num2)\n",
    "print(\"num1>=num2 -\",num1>=num2)\n",
    "print(\"num1<=num2 -\",num1<=num2)\n",
    "print(\"num1==num2 -\",num1==num2)\n",
    "print(\"num1!=num2 -\",num1!=num2)"
   ]
  },
  {
   "cell_type": "code",
   "execution_count": 13,
   "id": "7960f26f",
   "metadata": {},
   "outputs": [
    {
     "name": "stdout",
     "output_type": "stream",
     "text": [
      "enter 1st number - 12\n",
      "enter 2nd number - 10\n",
      "enter 2nd number - 14\n",
      "True\n",
      "True\n"
     ]
    }
   ],
   "source": [
    "#Logical Operator\n",
    "\n",
    "num1=int(input(\"enter 1st number - \"))\n",
    "num2=int(input(\"enter 2nd number - \"))\n",
    "num3=int(input(\"enter 2nd number - \"))\n",
    "print(num1>num2 and num1>num2)\n",
    "print(num1>num2 or num1>num2)"
   ]
  },
  {
   "cell_type": "code",
   "execution_count": 14,
   "id": "9d2a82e3",
   "metadata": {},
   "outputs": [
    {
     "name": "stdout",
     "output_type": "stream",
     "text": [
      "True\n",
      "False\n",
      "True\n"
     ]
    }
   ],
   "source": [
    "#Membership Operator\n",
    "\n",
    "s1=\"itvedant\"\n",
    "print(\"a\" in s1)\n",
    "print(\"a\" not in s1)\n",
    "print(\"z\" not in s1)"
   ]
  },
  {
   "cell_type": "code",
   "execution_count": 17,
   "id": "77c03b67",
   "metadata": {},
   "outputs": [
    {
     "name": "stdout",
     "output_type": "stream",
     "text": [
      "Enter Number - 1234\n",
      "reversed no -  4\n",
      "reversed no -  43\n",
      "reversed no -  432\n",
      "reversed no -  4321\n"
     ]
    }
   ],
   "source": [
    "#Reverse the input value\n",
    "\n",
    "rev=0\n",
    "n=int(input(\"Enter Number - \"))\n",
    "while(n>0):\n",
    "    digit=n%10\n",
    "    rev=rev*10+digit\n",
    "    n=n//10\n",
    "    print(\"reversed no - \",rev)"
   ]
  },
  {
   "cell_type": "code",
   "execution_count": 23,
   "id": "1a20d11e",
   "metadata": {},
   "outputs": [
    {
     "name": "stdout",
     "output_type": "stream",
     "text": [
      "enter number A - 12\n",
      "enter number B - 10\n",
      "A -  10\n",
      "B -  12\n"
     ]
    }
   ],
   "source": [
    "# swapping of two numbers - By using \"Temp\"\n",
    "\n",
    "a=int(input(\"enter number A - \"))\n",
    "b=int(input(\"enter number B - \"))\n",
    "\n",
    "temp=a\n",
    "a=b\n",
    "b=temp\n",
    "\n",
    "print(\"A - \",a)\n",
    "print(\"B - \",b)"
   ]
  },
  {
   "cell_type": "code",
   "execution_count": 24,
   "id": "d174ab5e",
   "metadata": {},
   "outputs": [
    {
     "name": "stdout",
     "output_type": "stream",
     "text": [
      "A -  20\n",
      "B -  10\n"
     ]
    }
   ],
   "source": [
    "# swapping of two numbers - By using \"Operators\"( +, - )\n",
    "\n",
    "a=10\n",
    "b=20\n",
    "\n",
    "a=a+b\n",
    "b=a-b\n",
    "a=a-b\n",
    "\n",
    "print(\"A - \",a)\n",
    "print(\"B - \",b)"
   ]
  },
  {
   "cell_type": "code",
   "execution_count": 29,
   "id": "1dc84ec1",
   "metadata": {},
   "outputs": [
    {
     "name": "stdout",
     "output_type": "stream",
     "text": [
      "Enter your marks \n",
      "Maths - 50\n",
      "Science - 60\n",
      "English - 70\n",
      "Hindi - 80\n",
      "History - 90\n",
      "Average marks =  70.0\n"
     ]
    }
   ],
   "source": [
    "#average marks of subjects\n",
    "\n",
    "print(\"Enter your marks \")\n",
    "\n",
    "S1=float(input(\"Maths - \",))\n",
    "S2=float(input(\"Science - \",))\n",
    "S3=float(input(\"English - \",))\n",
    "S4=float(input(\"Hindi - \",))\n",
    "S5=float(input(\"History - \",))\n",
    "\n",
    "total = S1 + S2 + S3 + S4 + S5;\n",
    "average = total/5\n",
    "\n",
    "print(\"Average marks = \", average)"
   ]
  },
  {
   "cell_type": "code",
   "execution_count": null,
   "id": "ccc8148f",
   "metadata": {},
   "outputs": [],
   "source": [
    "Name=input(\"Enter Your Name - \", )\n",
    "Age = input(\"Enter Your Age - \", )\n",
    "Phone_No = input(\"Enter Your Phone No. - \", )\n",
    "Salary = input(\"Enter Your Salary - \", )\n",
    "Married = input(\" Married ? T of F - \",)\n",
    "\n",
    "print(\"Employee Name - \",Name, \"\\n\",\n",
    "      \"Employee Name - \",Age, \"\\n\",\n",
    "      \"Employee Name - \",Phone_No, \"\\n\",\n",
    "      \"Employee Name - \",Salary, \"\\n\"\n",
    "      print(\"T\" in Married))"
   ]
  },
  {
   "cell_type": "code",
   "execution_count": null,
   "id": "374dadb5",
   "metadata": {},
   "outputs": [],
   "source": []
  },
  {
   "cell_type": "code",
   "execution_count": null,
   "id": "79ebd7a7",
   "metadata": {},
   "outputs": [],
   "source": []
  },
  {
   "cell_type": "code",
   "execution_count": null,
   "id": "0eac002b",
   "metadata": {},
   "outputs": [],
   "source": []
  },
  {
   "cell_type": "code",
   "execution_count": null,
   "id": "29459dcc",
   "metadata": {},
   "outputs": [],
   "source": []
  },
  {
   "cell_type": "code",
   "execution_count": null,
   "id": "f31e08f6",
   "metadata": {},
   "outputs": [],
   "source": []
  },
  {
   "cell_type": "code",
   "execution_count": null,
   "id": "de859698",
   "metadata": {},
   "outputs": [],
   "source": []
  }
 ],
 "metadata": {
  "kernelspec": {
   "display_name": "Python 3",
   "language": "python",
   "name": "python3"
  },
  "language_info": {
   "codemirror_mode": {
    "name": "ipython",
    "version": 3
   },
   "file_extension": ".py",
   "mimetype": "text/x-python",
   "name": "python",
   "nbconvert_exporter": "python",
   "pygments_lexer": "ipython3",
   "version": "3.8.8"
  }
 },
 "nbformat": 4,
 "nbformat_minor": 5
}
