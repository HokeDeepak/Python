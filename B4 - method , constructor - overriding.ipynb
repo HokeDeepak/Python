{
 "cells": [
  {
   "cell_type": "code",
   "execution_count": 14,
   "id": "944524a9",
   "metadata": {},
   "outputs": [],
   "source": [
    "# method overriding"
   ]
  },
  {
   "cell_type": "code",
   "execution_count": 16,
   "id": "530ff8db",
   "metadata": {},
   "outputs": [],
   "source": [
    "class p:\n",
    "    def marry(self):\n",
    "        print(\"subhlakshmi\")\n",
    "        print(\"property_gold_car\")\n",
    "        \n",
    "class c(p):\n",
    "    def marry(self):\n",
    "        super().marry()\n",
    "        print(\"katrina kaif\")"
   ]
  },
  {
   "cell_type": "code",
   "execution_count": 17,
   "id": "101a4824",
   "metadata": {},
   "outputs": [
    {
     "name": "stdout",
     "output_type": "stream",
     "text": [
      "subhlakshmi\n",
      "property_gold_car\n",
      "katrina kaif\n"
     ]
    }
   ],
   "source": [
    "c1=c()\n",
    "c1.marry()"
   ]
  },
  {
   "cell_type": "code",
   "execution_count": null,
   "id": "7fbc579d",
   "metadata": {},
   "outputs": [],
   "source": []
  },
  {
   "cell_type": "code",
   "execution_count": 18,
   "id": "38bf2e55",
   "metadata": {},
   "outputs": [],
   "source": [
    "# constructor overriding"
   ]
  },
  {
   "cell_type": "code",
   "execution_count": 24,
   "id": "a239bfe0",
   "metadata": {},
   "outputs": [],
   "source": [
    "class parent:\n",
    "    def __init__(self):\n",
    "        print(\"parent constructor\")\n",
    "        \n",
    "class child(parent):\n",
    "#    def __init__(self):\n",
    " #       print(\"child constructor\")\n",
    "    pass"
   ]
  },
  {
   "cell_type": "code",
   "execution_count": 25,
   "id": "bfdb9359",
   "metadata": {},
   "outputs": [
    {
     "name": "stdout",
     "output_type": "stream",
     "text": [
      "parent constructor\n"
     ]
    }
   ],
   "source": [
    "# if child class does not contain constructor then,\n",
    "# parent class constructor will be executed\n",
    "\n",
    "c1=child()"
   ]
  },
  {
   "cell_type": "code",
   "execution_count": null,
   "id": "ab6376c7",
   "metadata": {},
   "outputs": [],
   "source": []
  },
  {
   "cell_type": "code",
   "execution_count": 34,
   "id": "69b4e430",
   "metadata": {},
   "outputs": [],
   "source": [
    "# Callint parent class in child class using super()\n",
    "\n",
    "class person:\n",
    "    def __init__(self,name,age):\n",
    "        self.name=name\n",
    "        self.age=age\n",
    "        \n",
    "class employee(person):\n",
    "    def __init__(self,name,age,eno,sal):\n",
    "        super().__init__(name,age)\n",
    "        self.eno=eno\n",
    "        self.salary=sal\n",
    "        \n",
    "    def display(self):\n",
    "        print(\"employee name -\", self.name)\n",
    "        print(\"employee age -\", self.age)\n",
    "        print(\"employee no -\", self.eno)\n",
    "        print(\"employee salary -\", self.salary)"
   ]
  },
  {
   "cell_type": "code",
   "execution_count": 35,
   "id": "9db20264",
   "metadata": {},
   "outputs": [
    {
     "name": "stdout",
     "output_type": "stream",
     "text": [
      "employee name - Deepak\n",
      "employee age - 21\n",
      "employee no - 1\n",
      "employee salary - 50000\n"
     ]
    }
   ],
   "source": [
    "e1=employee(\"Deepak\",21,1,50000)\n",
    "e1.display()"
   ]
  },
  {
   "cell_type": "code",
   "execution_count": null,
   "id": "22a6b940",
   "metadata": {},
   "outputs": [],
   "source": [
    "# overriding defination -\n",
    "\n",
    "#    whatever the members available in parent class are defaultly available in child class to inheritance .\n",
    "#    if child class not satisfied with parent class implementation, then child class allowed to redefine that method in the child class based on its requirment.\n",
    "#    this concept is called as overriding."
   ]
  }
 ],
 "metadata": {
  "kernelspec": {
   "display_name": "Python 3",
   "language": "python",
   "name": "python3"
  },
  "language_info": {
   "codemirror_mode": {
    "name": "ipython",
    "version": 3
   },
   "file_extension": ".py",
   "mimetype": "text/x-python",
   "name": "python",
   "nbconvert_exporter": "python",
   "pygments_lexer": "ipython3",
   "version": "3.8.8"
  }
 },
 "nbformat": 4,
 "nbformat_minor": 5
}
