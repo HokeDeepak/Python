{
 "cells": [
  {
   "cell_type": "code",
   "execution_count": 1,
   "id": "b6e0cb4b",
   "metadata": {},
   "outputs": [],
   "source": [
    "# 1) While Loop \n",
    "# 2) For Loop\n"
   ]
  },
  {
   "cell_type": "code",
   "execution_count": 2,
   "id": "46020d1d",
   "metadata": {},
   "outputs": [],
   "source": [
    "#Initialization\n",
    "\n",
    "#while(condition):\n",
    "#statement ---\n",
    "#incrase/decrease"
   ]
  },
  {
   "cell_type": "code",
   "execution_count": 3,
   "id": "7d11baf2",
   "metadata": {},
   "outputs": [
    {
     "name": "stdout",
     "output_type": "stream",
     "text": [
      "1\n",
      "2\n",
      "3\n",
      "4\n",
      "5\n",
      "6\n",
      "7\n",
      "8\n",
      "9\n",
      "10\n"
     ]
    }
   ],
   "source": [
    "#While loop\n",
    "#eg1 1-10\n",
    "\n",
    "i=1\n",
    "while i<=10:\n",
    "    print(i)\n",
    "    i=i+1"
   ]
  },
  {
   "cell_type": "code",
   "execution_count": 4,
   "id": "2759480e",
   "metadata": {},
   "outputs": [
    {
     "name": "stdout",
     "output_type": "stream",
     "text": [
      "2\n",
      "4\n",
      "6\n",
      "8\n",
      "10\n"
     ]
    }
   ],
   "source": [
    "#While loop\n",
    "# even numbers\n",
    "\n",
    "i=2\n",
    "while i<=10:\n",
    "    print(i)\n",
    "    i=i+2"
   ]
  },
  {
   "cell_type": "code",
   "execution_count": 5,
   "id": "a4cbe57d",
   "metadata": {},
   "outputs": [
    {
     "name": "stdout",
     "output_type": "stream",
     "text": [
      "2\n",
      "4\n",
      "6\n",
      "8\n",
      "10\n"
     ]
    }
   ],
   "source": [
    "#While loop\n",
    "#eg2 even numbers\n",
    "\n",
    "i=1\n",
    "while i<=10:\n",
    "    if i%2==0:\n",
    "        print(i)\n",
    "    i=i+1"
   ]
  },
  {
   "cell_type": "code",
   "execution_count": 6,
   "id": "6486f4c9",
   "metadata": {},
   "outputs": [
    {
     "name": "stdout",
     "output_type": "stream",
     "text": [
      "1\n",
      "3\n",
      "5\n",
      "7\n",
      "9\n",
      "11\n",
      "13\n",
      "15\n",
      "17\n",
      "19\n",
      "21\n",
      "23\n",
      "25\n",
      "27\n",
      "29\n",
      "31\n",
      "33\n",
      "35\n",
      "37\n",
      "39\n",
      "41\n",
      "43\n",
      "45\n",
      "47\n",
      "49\n"
     ]
    }
   ],
   "source": [
    "#While loop\n",
    "#eg2 odd numbers\n",
    "\n",
    "i=1\n",
    "while i<=50:\n",
    "    if i%2!=0:\n",
    "        print(i)\n",
    "    i=i+1"
   ]
  },
  {
   "cell_type": "code",
   "execution_count": 7,
   "id": "35273932",
   "metadata": {},
   "outputs": [
    {
     "name": "stdout",
     "output_type": "stream",
     "text": [
      "Even List -  [2, 4, 6, 8, 10, 12, 14, 16, 18, 20, 22, 24, 26, 28, 30, 32, 34, 36, 38, 40, 42, 44, 46, 48, 50]\n",
      "\n",
      "odd List -  [1, 3, 5, 7, 9, 11, 13, 15, 17, 19, 21, 23, 25, 27, 29, 31, 33, 35, 37, 39, 41, 43, 45, 47, 49]\n"
     ]
    }
   ],
   "source": [
    "#While loop\n",
    "#eg3 odd numbers\n",
    "\n",
    "i=1\n",
    "even=[]\n",
    "odd=[]\n",
    "while i<=50:\n",
    "    if i%2==0:\n",
    "        even.append(i)\n",
    "    else:\n",
    "        odd.append(i)\n",
    "    i=i+1\n",
    "print(\"Even List - \",even)\n",
    "print(\"\")\n",
    "print(\"odd List - \",odd)"
   ]
  },
  {
   "cell_type": "code",
   "execution_count": 8,
   "id": "5b34fb91",
   "metadata": {},
   "outputs": [
    {
     "ename": "SyntaxError",
     "evalue": "invalid syntax (<ipython-input-8-7c14657d7f38>, line 5)",
     "output_type": "error",
     "traceback": [
      "\u001b[1;36m  File \u001b[1;32m\"<ipython-input-8-7c14657d7f38>\"\u001b[1;36m, line \u001b[1;32m5\u001b[0m\n\u001b[1;33m    Sum=Sum+i:\u001b[0m\n\u001b[1;37m             ^\u001b[0m\n\u001b[1;31mSyntaxError\u001b[0m\u001b[1;31m:\u001b[0m invalid syntax\n"
     ]
    }
   ],
   "source": [
    "i=1\n",
    "Sum=0\n",
    "\n",
    "while i<=10:\n",
    "    Sum=Sum+i:\n",
    "    i=i+1\n",
    "print(Sum)"
   ]
  },
  {
   "cell_type": "code",
   "execution_count": null,
   "id": "bc90de14",
   "metadata": {},
   "outputs": [],
   "source": [
    "# choice maths\n",
    "\n",
    "print(\"Menu\")\n",
    "print(\"--------------------\")\n",
    "print(\"1.Addition\\n2.substraction\\n3.multiplication\\n4.division\\n5.floor division\\n6.power\")\n",
    "print(\"--------------------\")\n",
    "\n",
    "while(True):\n",
    "\n",
    "        ch=int(input(\"Enter your choice - \"))\n",
    "        a=int(input(\"Enter 1st number - \"))\n",
    "        b=int(input(\"Enter 2nd number - \"))\n",
    "\n",
    "        if ch==1:\n",
    "            add=a+b\n",
    "            print(\"Addition of two numbers - \",add)\n",
    "        elif ch==2:\n",
    "            sub=a-b\n",
    "            print(\"Substraction of two numbers - \",sub)\n",
    "        elif ch==3:\n",
    "            mul=a*b\n",
    "            print(\"Multiplication of two numbers\",mul)\n",
    "        elif ch==4:\n",
    "            div=a/b\n",
    "            print(\"Division of two numbers\",div)\n",
    "        elif ch==5:\n",
    "            fdiv=a//b\n",
    "            print(\"Floor Division of two numbers\",fdiv)\n",
    "        elif ch==6:\n",
    "            p=a**b\n",
    "            print(\"A to the power B is\",p)\n",
    "        else:\n",
    "            print(\"wrong choice\")\n",
    "        break"
   ]
  },
  {
   "cell_type": "code",
   "execution_count": null,
   "id": "20b6c233",
   "metadata": {},
   "outputs": [],
   "source": [
    "#--------------------------------------------------------------------------"
   ]
  },
  {
   "cell_type": "code",
   "execution_count": null,
   "id": "ece4f1c3",
   "metadata": {},
   "outputs": [],
   "source": [
    "# For Loop \n",
    "\n",
    "# use in sequence or range\n",
    "\n",
    "# for i in range(1,10,1)\n",
    "\n"
   ]
  },
  {
   "cell_type": "code",
   "execution_count": null,
   "id": "3a31fc02",
   "metadata": {},
   "outputs": [],
   "source": [
    "# 1 - 10\n",
    "for i in range(1,11):\n",
    "    print(i)"
   ]
  },
  {
   "cell_type": "code",
   "execution_count": null,
   "id": "03647d00",
   "metadata": {},
   "outputs": [],
   "source": [
    "# 2 - 10 \n",
    "for i in range(0,11,2):\n",
    "    print(i)"
   ]
  },
  {
   "cell_type": "code",
   "execution_count": null,
   "id": "8369d6dd",
   "metadata": {},
   "outputs": [],
   "source": [
    "even=[]\n",
    "odd=[]\n",
    "for i in range(2,11,2):\n",
    "    print(i,end=\" \")"
   ]
  },
  {
   "cell_type": "code",
   "execution_count": null,
   "id": "d642840d",
   "metadata": {},
   "outputs": [],
   "source": [
    "for i in range(1,11,2):\n",
    "    print(i,end=\" \")"
   ]
  },
  {
   "cell_type": "code",
   "execution_count": null,
   "id": "d8b82bb2",
   "metadata": {},
   "outputs": [],
   "source": [
    "a=[]\n",
    "for i in range(1,11):\n",
    "    print(i,end=\" \")\n",
    "    a.append(i)"
   ]
  },
  {
   "cell_type": "code",
   "execution_count": null,
   "id": "27b4124a",
   "metadata": {},
   "outputs": [],
   "source": [
    "a"
   ]
  },
  {
   "cell_type": "code",
   "execution_count": null,
   "id": "8c2153b5",
   "metadata": {},
   "outputs": [],
   "source": [
    "l1=[1,2,3,4,5]\n",
    "for i in l1:\n",
    "    print(i)"
   ]
  },
  {
   "cell_type": "code",
   "execution_count": null,
   "id": "d3c40b27",
   "metadata": {},
   "outputs": [],
   "source": [
    "l1=['red','blue','green']\n",
    "for i in l1:\n",
    "    print(i)"
   ]
  },
  {
   "cell_type": "code",
   "execution_count": null,
   "id": "68b7dbca",
   "metadata": {},
   "outputs": [],
   "source": [
    "data={'name':'depak','age':21}"
   ]
  },
  {
   "cell_type": "code",
   "execution_count": null,
   "id": "a437f667",
   "metadata": {},
   "outputs": [],
   "source": [
    "for i in data.values():\n",
    "    print(i)"
   ]
  },
  {
   "cell_type": "code",
   "execution_count": null,
   "id": "faa05e1c",
   "metadata": {},
   "outputs": [],
   "source": [
    "for i in data.keys():\n",
    "    print(i)"
   ]
  },
  {
   "cell_type": "code",
   "execution_count": null,
   "id": "9d6b9855",
   "metadata": {},
   "outputs": [],
   "source": [
    "for i in data.items():\n",
    "    print(i)"
   ]
  },
  {
   "cell_type": "code",
   "execution_count": null,
   "id": "ce2cc205",
   "metadata": {},
   "outputs": [],
   "source": [
    "a=[23,45,6,7,34,35,6,76,3,11,1]\n",
    "even=[]\n",
    "odd=[]\n",
    "for i in a:\n",
    "    if i%2==0:\n",
    "        even.append(i)\n",
    "    else:\n",
    "        odd.append(i)\n",
    "print(\"even - \",even)\n",
    "print(\"odd - \",odd)"
   ]
  },
  {
   "cell_type": "code",
   "execution_count": null,
   "id": "6a333d69",
   "metadata": {},
   "outputs": [],
   "source": [
    "s1 = \"hello world\"\n",
    "\n",
    "for i in s1:\n",
    "    print(i)"
   ]
  },
  {
   "cell_type": "code",
   "execution_count": null,
   "id": "f52bfef1",
   "metadata": {},
   "outputs": [],
   "source": [
    "l1=[1,2,3,4,5]\n",
    "i=0\n",
    "\n",
    "while(i<len(l1)):\n",
    "    print(l1[i])\n",
    "    i=i+1"
   ]
  },
  {
   "cell_type": "code",
   "execution_count": null,
   "id": "55cc038b",
   "metadata": {},
   "outputs": [],
   "source": [
    "b=input(\"Enter string - \")\n",
    "v_count=0\n",
    "c_count=0\n",
    "b=b.lower()\n",
    "for i in s1:\n",
    "    if i==\"a\" or i==\"e\" or i==\"i\" or i==\"o\" or i==\"u\":\n",
    "        v_count=v_count+1\n",
    "    else:\n",
    "        c_count=c_count+1\n",
    "print(\"No. Of words - \",len(b))\n",
    "print(\"number of vowels - \"+str(v_count))\n",
    "print(\"number of consonents - \"+ str(c_count))"
   ]
  },
  {
   "cell_type": "code",
   "execution_count": null,
   "id": "348ed97c",
   "metadata": {},
   "outputs": [],
   "source": [
    "def reverse(s):\n",
    "    str = \"\"\n",
    "    for i in s:\n",
    "        str = i + str\n",
    "    return str\n",
    " \n",
    "s = \"Deepak\"\n",
    " \n",
    "print(\"The original string is : \", end=\"\")\n",
    "print(s)\n",
    " \n",
    "print(\"The reversed string(using loops) is : \", end=\"\")\n",
    "print(reverse(s))"
   ]
  },
  {
   "cell_type": "code",
   "execution_count": null,
   "id": "e255c559",
   "metadata": {},
   "outputs": [],
   "source": [
    "s1=\"ram\"\n",
    "rev=\"\"\n",
    "\n",
    "for i in s1:\n",
    "    rev=rev+i\n",
    "print(rev)"
   ]
  },
  {
   "cell_type": "code",
   "execution_count": 11,
   "id": "43c9efc0",
   "metadata": {},
   "outputs": [
    {
     "name": "stdout",
     "output_type": "stream",
     "text": [
      "5\n",
      "1\n",
      "2\n",
      "6\n",
      "24\n",
      "120\n"
     ]
    }
   ],
   "source": [
    "#factorial of no -\n",
    "# formula is n!=(n*n-1)!\n",
    "\n",
    "n=int(input())\n",
    "fact=1\n",
    "i=1\n",
    "while i<=n:\n",
    "    fact=fact*i\n",
    "    print(fact)\n",
    "    i+=1"
   ]
  },
  {
   "cell_type": "code",
   "execution_count": null,
   "id": "96135651",
   "metadata": {},
   "outputs": [],
   "source": [
    "# fibonacci series\n",
    "\n",
    "n=int(input(\"Enter How many number you want in series\",))\n",
    "a=int(input())\n",
    "b=int(input())\n",
    "\n",
    "for i in range (0,n-2):\n",
    "    c=a+b\n",
    "    print(c)\n",
    "    a=b\n",
    "    b=c"
   ]
  },
  {
   "cell_type": "code",
   "execution_count": null,
   "id": "9e4e8ca1",
   "metadata": {},
   "outputs": [],
   "source": []
  }
 ],
 "metadata": {
  "kernelspec": {
   "display_name": "Python 3",
   "language": "python",
   "name": "python3"
  },
  "language_info": {
   "codemirror_mode": {
    "name": "ipython",
    "version": 3
   },
   "file_extension": ".py",
   "mimetype": "text/x-python",
   "name": "python",
   "nbconvert_exporter": "python",
   "pygments_lexer": "ipython3",
   "version": "3.8.8"
  }
 },
 "nbformat": 4,
 "nbformat_minor": 5
}
